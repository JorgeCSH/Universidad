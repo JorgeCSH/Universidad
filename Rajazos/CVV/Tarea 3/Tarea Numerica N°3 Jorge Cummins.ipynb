{
 "nbformat": 4,
 "nbformat_minor": 0,
 "metadata": {
  "colab": {
   "provenance": [],
   "collapsed_sections": [
    "jrDx2BOWzFXU",
    "Fa8xtgGyzQPi",
    "BwHEkcUjzfbS"
   ]
  },
  "kernelspec": {
   "name": "python3",
   "language": "python",
   "display_name": "Python 3 (ipykernel)"
  },
  "language_info": {
   "name": "python"
  }
 },
 "cells": [
  {
   "cell_type": "markdown",
   "source": [
    "-------------------\n",
    "# Tarea [Inserte tipo de tarea, Numero de tarea y nombre del ramo]  ([Inserte Codigo del Curso])\n",
    "-------------------\n",
    "> Integrantes:\n",
    "    $\\rightarrow$ [Nombre Apellido del estudiante];  RUT: [Rut estudiante]\n",
    "Seccion: [Inserte Seccion]\n",
    "Profesor de Catedra: [Inserte Nombre del profe].\n",
    "Fecha de Entrega:[Inserte fecha de entrega]\n"
   ],
   "metadata": {
    "id": "ZIsH_HPjvhdS"
   }
  },
  {
   "cell_type": "markdown",
   "source": [
    "> ## Sobre el Documento"
   ],
   "metadata": {
    "id": "2Ua7LZykxSuR"
   }
  },
  {
   "cell_type": "markdown",
   "source": [
    "\n",
    "> ### Componentes: \n",
    "> El presente documento es el solicitado en formato \"*jupyter Notebook*\" de la tarea numerica solicitada, en la cual se encontraran los cuadros de codigo que realizaran lo solicitado (y algunas anotaciones), cuadros de texto explicativos, además de algunos ejemplos si la situacion lo amerita.\n",
    "\n",
    "> Los cuadros de texto corresponeran a la información sobre el codigo que le prosigue siguiendo un formato de \"*texto arriba, codigo abajo*\", el cual intentara cumplir el objetivo de explicar el funcionamiento del codigo en el presente. Pese a esto también existiran anotaciones extras en formato \"# *Anotaciones*\" color \"verde\" en el/los codigos que deberia tener un formato similar al siguiente:\n",
    "```\n",
    "1 # Anotacion\n",
    "2 Este es un codigo:              # Anotacion\n",
    "3     sirve para ejemplificar     # Anotacion\n",
    "4     el formato que se dijo      # Anotacion \n",
    "5                                 #\n",
    "6 previamente                     # Anotacion\n",
    "```\n",
    "> Estos seran parte del codigo pero no tendran funcion ninguna más que ser anotaciones insertadas por los desarrolladores para uso personal, aunque de ser necesario puede utilizarse como información sobre el documento/codigo.\n",
    "> ### Orden:\n",
    "> [Inserte informacion sobre las componentes del documento]\n",
    "\n",
    "> Es importante informar que de ser necesario, se utilizaran codigos compartidos con el fin de mantener el orden y optimizar el proceso, el cual será denotado por una anotacion al inicio del cuadro de codigo de forma \"codigo compartido\". Para poder utilizar el codigo donde esté siendo reutilizado, será necesario inicializar el original. Un caso será la siguiente línea de codigos que permitira el acceso a librerias que podrian ser utilizadas.\n"
   ],
   "metadata": {
    "id": "9GiLnnngJaEl"
   }
  },
  {
   "cell_type": "code",
   "source": [
    "# Codigo compartido\n",
    "# Libraries Exportadas\n",
    "import numpy as np\n",
    "import matplotlib.pyplot as plt\n"
   ],
   "metadata": {
    "id": "ud8Ehlcbzv3D",
    "ExecuteTime": {
     "end_time": "2023-05-13T18:03:30.997557900Z",
     "start_time": "2023-05-13T18:03:30.977185300Z"
    }
   },
   "execution_count": 3,
   "outputs": []
  },
  {
   "cell_type": "code",
   "execution_count": 3,
   "outputs": [],
   "source": [],
   "metadata": {
    "collapsed": false
   }
  },
  {
   "cell_type": "code",
   "execution_count": 3,
   "outputs": [],
   "source": [],
   "metadata": {
    "collapsed": false
   }
  }
 ]
}
