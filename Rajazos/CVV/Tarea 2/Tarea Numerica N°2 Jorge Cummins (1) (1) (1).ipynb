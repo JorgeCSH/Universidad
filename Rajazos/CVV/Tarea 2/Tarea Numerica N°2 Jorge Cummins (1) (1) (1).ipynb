{
 "nbformat": 4,
 "nbformat_minor": 0,
 "metadata": {
  "colab": {
   "provenance": [],
   "collapsed_sections": [
    "jrDx2BOWzFXU",
    "Fa8xtgGyzQPi",
    "BwHEkcUjzfbS"
   ]
  },
  "kernelspec": {
   "name": "python3",
   "language": "python",
   "display_name": "Python 3 (ipykernel)"
  },
  "language_info": {
   "name": "python"
  }
 },
 "cells": [
  {
   "cell_type": "markdown",
   "source": [
    "-------------------\n",
    "# Tarea Numerica N°2, Calculo en Varias Variables  (MA-2001)\n",
    "-------------------\n",
    "> Integrantes:\n",
    "    $\\rightarrow$ Jorge Cummins;  RUT: 21.353.175-1\n",
    "Seccion: 5\n",
    "Profesor de Catedra: Claudio Muñoz.\n",
    "Fecha de Entrega: 28 de Mayo de 2023\n"
   ],
   "metadata": {
    "id": "ZIsH_HPjvhdS"
   }
  },
  {
   "cell_type": "markdown",
   "source": [
    "> ## Sobre el Documento"
   ],
   "metadata": {
    "id": "2Ua7LZykxSuR"
   }
  },
  {
   "cell_type": "markdown",
   "source": [
    "> ### Indice:\n",
    ">   1.  ...................................................... (Parte 1.) Descripcion Teorica\n",
    ">   2.  ...................................................... (Parte 2.) \"Numerico\" [(a) y (b)]\n",
    ">   3.  ...................................................... Palabras Finales\n",
    ">\n",
    "> ### Componentes:\n",
    "> El presente documento es el solicitado en formato \"*jupyter Notebook*\" de la tarea numerica solicitada. En esta se encontraran cuadros de codigo, algunas anotaciones, cuadros de texto explicativos además de algunos ejemplos si la situacion lo amerita. Esto con el fin de servir como argumentacion o solucion directa a la evaluacion.\n",
    "\n",
    "> Los cuadros de texto corresponeran a la información sobre el codigo que le prosigue siguiendo un formato de \"*texto arriba, codigo abajo*\", el cual intentara cumplir el objetivo de explicar el funcionamiento del codigo en el presente. Pese a esto también existiran anotaciones extras en formato \"# *Anotaciones*\" color \"verde\" en el/los codigos que deberia tener un formato similar al siguiente:\n",
    "```\n",
    "1 # Anotacion\n",
    "2 Este es un codigo:              # Anotacion\n",
    "3     sirve para ejemplificar     # Anotacion\n",
    "4     el formato que se dijo      # Anotacion \n",
    "5                                 #\n",
    "6 previamente                     # Anotacion\n",
    "```\n",
    "> Estos seran parte del codigo pero no tendran funcion ninguna más que ser anotaciones insertadas por los desarrolladores para uso personal, aunque de ser necesario puede utilizarse como información sobre el documento/codigo.\n",
    "> ### Orden:\n",
    "> El documento estara estructurado mediante diferentes partes que se enumeran en el \"Indice\", en la primera parte (Parte 1.) y la segunda (Parte 2.) se encuentran las soluciones respectivas, mientra que en \"Palabras Finales\", comentarios respectivos a la realizacion del documeno o tarea.\n",
    "\n",
    "> Es importante informar que de ser necesario, se utilizaran codigos compartidos con el fin de mantener el orden y optimizar el proceso, el cual será denotado por una anotacion al inicio del cuadro de codigo de forma \"codigo compartido\". Para poder utilizar el codigo donde esté siendo reutilizado, será necesario inicializar el original. Un caso será la siguiente línea de codigos que permitira el acceso a librerias que podrian ser utilizadas.\n"
   ],
   "metadata": {
    "id": "9GiLnnngJaEl"
   }
  },
  {
   "cell_type": "markdown",
   "source": [
    "> ## Parte 1. Descripcion Teorica"
   ],
   "metadata": {
    "collapsed": false
   }
  },
  {
   "cell_type": "markdown",
   "source": [
    "> Dado a las caracteristicas de la entrega, en la cual ademas del documento prescente, se entrego un informe en formato PDF donde se contendran las soluciones respectivas."
   ],
   "metadata": {
    "collapsed": false
   }
  },
  {
   "cell_type": "markdown",
   "source": [
    "> ## Parte 2. \"Numerico\""
   ],
   "metadata": {
    "collapsed": false
   }
  },
  {
   "cell_type": "markdown",
   "source": [
    "> La parte 2 de la tarea solicitada, se baso en dos diferentes estudios (aunque relacionados en la tematica presente) a programar. Esto se dividion en dos etapas para realizar la respectiva funcion.\n",
    "> Sin embargo, estas dos etapas llegaron a tener documentos o funcionalidades en comun, para lo cual se agregaron los siguientes codigos y celdas de codigos para optimizar el orden y proceso con estas funciones."
   ],
   "metadata": {
    "collapsed": false
   }
  },
  {
   "cell_type": "code",
   "source": [
    "# ========================================================================================================\n",
    "######################################### Librerias Importadas ###########################################\n",
    "# Codigo compartido --> Librerias export importadas\n",
    "import numpy as np\n",
    "######################################### Librerias Importadas ###########################################\n",
    "# ========================================================================================================"
   ],
   "metadata": {
    "id": "ud8Ehlcbzv3D",
    "ExecuteTime": {
     "end_time": "2023-05-28T02:51:26.365814200Z",
     "start_time": "2023-05-28T02:51:26.344870300Z"
    }
   },
   "execution_count": 25,
   "outputs": []
  },
  {
   "cell_type": "code",
   "execution_count": 26,
   "outputs": [],
   "source": [
    "# ========================================================================================================\n",
    "########################################## Valores Utilizados ############################################\n",
    "# Lista de tuplas o instancias.\n",
    "D = [(9.0,7.0,0.0), (2.0,5.0,1.0), (3.2,4.94,1.0), (9.1,7.46,0.0), (1.6,4.83,1.0), (8.4,7.46,0.0), (8.0,7.28,0.0), (3.1,4.58,1.0), (6.3,9.14,0.0), (3.4,5.36,1.0)]\n",
    "\n",
    "\n",
    "# Vector o punto de realizacion\n",
    "x0 = (8, 7)                                                          # Tula que representa al vector\n",
    "\n",
    "\n",
    "# Condiciones iniciales/constantes\n",
    "k = 1000                                                            # Cantidad de iteraciones\n",
    "l = 0.01                                                            # Learning rate de la red neuronal\n",
    "########################################## Valores Utilizados ############################################\n",
    "# ========================================================================================================"
   ],
   "metadata": {
    "collapsed": false,
    "ExecuteTime": {
     "end_time": "2023-05-28T02:51:26.391769600Z",
     "start_time": "2023-05-28T02:51:26.354843900Z"
    }
   }
  },
  {
   "cell_type": "markdown",
   "source": [
    "> ### (a) Programar algoritmo que \"Entrenara\" redes neuronales\n",
    "> Durante la etapa \"$a)$\", se solicito la realizacion del algoritmo llamado \"gradiente conjugado\" para los diferentes \"$k$\" dado a $k = 1,...,M$.\n",
    "> El algoritmo tiene la principal funcion de realizar la siguiente iteracion:\n",
    ">\\begin{align*} w_{1}^{k+1} &= w_{1}^{k}-l\\frac{\\partial C}{\\partial w_{1}} (w_{1}^{k}, w_{2}^{k}, b^{k}) \\\\ w_{2}^{k+1} &= w_{2}^{k}-l\\frac{\\partial C}{\\partial w_{2}} (w_{1}^{k}, w_{2}^{k}, b^{k}) \\\\ b^{k+1} &= b^{k}-l\\frac{\\partial C}{\\partial b} (w_{1}^{k}, w_{2}^{k}, b^{k}) \\end{align*}\n",
    "> Con $(w_{1}^{0}, w_{2}^{0}, b^{0}) \\in \\mathbb{R}^{3}$ como inicio, dados y aleatorios.\n"
   ],
   "metadata": {
    "collapsed": false
   }
  },
  {
   "cell_type": "code",
   "execution_count": 27,
   "outputs": [],
   "source": [
    "# ======================================== Tarea 2, Parte 2.a ============================================\n",
    "########################################### Realizacion Red ##############################################\n",
    "# Funcion sigmoid\n",
    "# Toma dos numeros y devuelve la funcion sigmoid o su derivada\n",
    "#           => 0, devuelve la funcion\n",
    "#           => 1, devuelve la derivada en torno a s\n",
    "def sigmoid(s, tipo):\n",
    "    e = np.exp(s)                                               # Evalua la exponencial en el punto \"s\"\n",
    "    denominador = (1+e)                                         # Denominador de la funcion\n",
    "    if tipo == 0:                                               # Condicional para evaluar funcion\n",
    "        sigmoide = (e)/(denominador)\n",
    "        return sigmoide\n",
    "    elif tipo == 1:                                             # Condicional para evaluar derivada\n",
    "        sigmoide = (e)/((denominador)**2)\n",
    "        return sigmoide\n",
    "\n",
    "\n",
    "# funcion f(X)\n",
    "# Toma una tupla de vectores (x1,x2) y una tupla phi y,\n",
    "# devuelve la realizacion no evaluada de la red neuronal\n",
    "def f(phi, x):\n",
    "    x1, x2 = x                                                  # Obtiene valores Tupla\n",
    "    w1,w2,b = phi                                               # Obtiene valores Phi\n",
    "    fx = w1*x1+w2*x2+b                                          # Calcula pre-realizacion\n",
    "    return fx\n",
    "\n",
    "# Funcion Realizacion de la red neuronal (Rphi(X0))\n",
    "# Toma la tupla de valores y el vector Phi para devolver\n",
    "# la realizacion de la red neuronal.\n",
    "# Teoricamente corresponde al calculo de:\n",
    "# R(Phi)(X0) = sigma(f(x))\n",
    "def realizacion(phi, x, dif=0):\n",
    "    fx = f(phi, x)                                             # obtencion f(x)\n",
    "    gof = sigmoid(fx, dif)                                     # composicion\n",
    "    return gof\n",
    "########################################### Realizacion Red ##############################################\n",
    "# ======================================== Tarea 2, Parte 2.a ============================================"
   ],
   "metadata": {
    "collapsed": false,
    "ExecuteTime": {
     "end_time": "2023-05-28T02:51:26.405707800Z",
     "start_time": "2023-05-28T02:51:26.371798400Z"
    }
   }
  },
  {
   "cell_type": "code",
   "execution_count": 28,
   "outputs": [],
   "source": [
    "# ======================================== Tarea 2, Parte 2.a ============================================\n",
    "######################################### Derivadas Costo ################################################\n",
    "# Funcion derivada parcial\n",
    "# Realia la derivada parcial para cada en torno a w1, w2 y b\n",
    "# para UN dato del total ingresado, asi devolviendo una lista\n",
    "# de derivadas parciales de todos los datos finalmente\n",
    "def derivadaParcial(phi,datos):\n",
    "    gradD = []\n",
    "    for i in range(len(datos)):\n",
    "        x1d, x2d, xfd = datos[i]\n",
    "        dato = x1d, x2d\n",
    "        fx = f(phi,dato)\n",
    "        C = sigmoid(fx,0)-xfd\n",
    "        dC = sigmoid(fx,1)\n",
    "        dw1 = C*dC*x1d\n",
    "        dw2 = C*dC*x2d\n",
    "        db = C*dC\n",
    "        gradx = dw1, dw2, db\n",
    "        gradd = gradD+[gradx]\n",
    "        gradD = gradd\n",
    "        return gradD\n",
    "\n",
    "\n",
    "# Funcion derivada de costos\n",
    "# basandose en que la derivada de las sumas es la suma\n",
    "# de derivadas (algebra de derivadas), suma iterando esto\n",
    "# para cada dato ingresado dado a las derivadas parciales\n",
    "# previamente calculadas, devolviendo una lista que contiene\n",
    "# a las derivadas parciales del costo.\n",
    "def dcosto(phi,datas):\n",
    "    datos = derivadaParcial(phi,datas)\n",
    "    dw1 = []\n",
    "    dw2 = []\n",
    "    db = []\n",
    "    for i in range(len(datos)):\n",
    "        xc1, xc2, xcb = datos[i]\n",
    "        w1 = dw1 + [xc1]\n",
    "        dw1 = w1\n",
    "        w2 = dw2 + [xc2]\n",
    "        dw2 = w2\n",
    "        b = db + [xcb]\n",
    "        db = b\n",
    "        return [sum(dw1), sum(dw2), sum(db)]\n",
    "######################################### Derivadas Costo ################################################\n",
    "# ======================================== Tarea 2, Parte 2.a ============================================"
   ],
   "metadata": {
    "collapsed": false,
    "ExecuteTime": {
     "end_time": "2023-05-28T02:51:26.427648700Z",
     "start_time": "2023-05-28T02:51:26.404711200Z"
    }
   }
  },
  {
   "cell_type": "code",
   "execution_count": 29,
   "outputs": [],
   "source": [
    "# ======================================== Tarea 2, Parte 2.a ============================================\n",
    "####################################### Gradiente Conjugado ##############################################\n",
    "# Funcion gradiente Conjugado\n",
    "# Toma una cantidad \"k\" de iteraciones, una tasa \"l\" de aprendizaje y una coleccion de datos para obtener\n",
    "# las una aproximacion de la realizacion de una red neuronal desconocida. Esto en base a un phi aleatorio\n",
    "def gradienteConjugado(k, l, datos):\n",
    "    w1 = np.random.uniform(-1,1)\n",
    "    w2 = np.random.uniform(-1,1)\n",
    "    b = np.random.uniform(-1,1)\n",
    "    def gradienteFome(w1, w2, b, k, l, datos):\n",
    "        phi = w1, w2, b\n",
    "        if k == 0:\n",
    "            return w1, w2, b\n",
    "        else:\n",
    "            w11 = w1 - (l)*float((dcosto(phi, datos)[0]))\n",
    "            w22 = w2 - (l)*float((dcosto(phi, datos)[1]))\n",
    "            bb = b - (l)*float((dcosto(phi, datos)[2]))\n",
    "            w1 = w11\n",
    "            w2 = w22\n",
    "            b = bb\n",
    "            return gradienteFome(w1, w2, b, k - 1, l, datos)\n",
    "    Cgradiente = gradienteFome(w1, w2, b, k, l, datos)\n",
    "    return Cgradiente\n",
    "####################################### Gradiente Conjugado ##############################################\n",
    "# ======================================== Tarea 2, Parte 2.a ============================================"
   ],
   "metadata": {
    "collapsed": false,
    "ExecuteTime": {
     "end_time": "2023-05-28T02:51:26.433633800Z",
     "start_time": "2023-05-28T02:51:26.419670700Z"
    }
   }
  },
  {
   "cell_type": "markdown",
   "source": [
    "> ### (b) Realizar M = 1000 iteraciones del algoritmo con el fin de entrentar la red $\\Phi$. Ademas, encontrar el valor de la realizacion en el punto $(8, 7)$\n",
    "> Dado $D$ con 10 instancias consistentes de dos valores input y un tercero de output en {$0,1$} de la siguiente manera:\n",
    "> $D=${{$9, 7.0, 0$}, {$2, 5.0, 1$}, {$3.2, 4.94, 1$}, {$9.1, 7.46, 0$}, {$1.6, 4.83, 1$}, {$8.4, 7.46, 0$}, {$8, 7.28, 0$}, {$3.1, 4.58, 1$}, {$6.3, 9.14, 0$}, {$3.4, 5.36, 1$}}\n",
    "> Realizar M=1000 iteraciones del gradiente conjugado (anterior) para lograr el objetivo.\n",
    "\n"
   ],
   "metadata": {
    "collapsed": false
   }
  },
  {
   "cell_type": "code",
   "execution_count": 30,
   "outputs": [
    {
     "name": "stdout",
     "output_type": "stream",
     "text": [
      "Para la 1000-esima iteracion, vector Phi deberia estar dado por:\n",
      "(0.00925394509316846, -0.6917265566430112, 0.3349049941102443)\n",
      "\n",
      "A su vez, la realizacion estaria dada por:\n",
      "0.011737617906495376\n"
     ]
    }
   ],
   "source": [
    "# ======================================== Tarea 2, Parte 2.b ============================================\n",
    "####################################### Gradiente Conjugado ##############################################\n",
    "# Desarrollo final\n",
    "#   I. Ejecutar el gradiente para obtener el Phi = (wk1, wk2, bk2)\n",
    "#   II. Llamando \"phi = gradiente conjugado\", ejercutamos la\n",
    "#       realizacion en (8, 7) y phi\n",
    "#   III. Printeamos n resultados con la cantidad \"n\", numero natural a gusto\n",
    "\n",
    "# I.\n",
    "# Aplicacion del gradiente conjugado\n",
    "phiconjugado = gradienteConjugado(1000, l, D)\n",
    "# Mostrar resultados\n",
    "print(\"Para la 1000-esima iteracion, vector Phi deberia estar dado por:\")\n",
    "print(phiconjugado)\n",
    "print()\n",
    "# II.\n",
    "# Obtencion de red neuronal\n",
    "redrealizada = realizacion(phiconjugado, x0, 0)\n",
    "# Mostrar resultados\n",
    "print(\"A su vez, la realizacion estaria dada por:\")\n",
    "print(redrealizada)\n",
    "\n",
    "# III.\n",
    "#n = 50\n",
    "#for i in range(n):\n",
    "#    grad = gradienteConjugado(1000,l,D)\n",
    "#    print(grad)\n",
    "#    real = realizacion(grad, x0, 0)\n",
    "#    print(real)\n",
    "####################################### Gradiente Conjugado ##############################################\n",
    "# ======================================== Tarea 2, Parte 2.b ============================================"
   ],
   "metadata": {
    "collapsed": false,
    "ExecuteTime": {
     "end_time": "2023-05-28T02:51:26.488485700Z",
     "start_time": "2023-05-28T02:51:26.433633800Z"
    }
   }
  },
  {
   "cell_type": "markdown",
   "source": [
    "> ## Palabras Finales:\n"
   ],
   "metadata": {
    "collapsed": false
   }
  },
  {
   "cell_type": "markdown",
   "source": [
    "> $\\int_{E.Media}^{Dormir} Beauchef dx = felicidad $"
   ],
   "metadata": {
    "collapsed": false
   }
  },
  {
   "cell_type": "code",
   "execution_count": 30,
   "outputs": [],
   "source": [],
   "metadata": {
    "collapsed": false,
    "ExecuteTime": {
     "end_time": "2023-05-28T02:51:26.496465200Z",
     "start_time": "2023-05-28T02:51:26.462555900Z"
    }
   }
  }
 ]
}
