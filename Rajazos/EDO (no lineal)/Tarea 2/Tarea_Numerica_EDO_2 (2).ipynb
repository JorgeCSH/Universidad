{
  "nbformat": 4,
  "nbformat_minor": 0,
  "metadata": {
    "colab": {
      "provenance": [],
      "collapsed_sections": [
        "5IjyJDBZHxT-",
        "c1B_kLd-PwRa",
        "f3P9V08kcZNg",
        "44zY_RPUinY3",
        "JQ6CeUBLuyTE",
        "agpqie3pP2EZ",
        "Mc1DLhUUsjZ9",
        "xPeynAcoQeOh",
        "4ePsfVHpfk5b",
        "CwtV3yfR7lZz",
        "LT30Z3tYi5Lv",
        "QaTa9w67G4_w"
      ]
    },
    "kernelspec": {
      "name": "python3",
      "display_name": "Python 3"
    },
    "language_info": {
      "name": "python"
    }
  },
  "cells": [
    {
      "cell_type": "markdown",
      "source": [
        "-------------------\n",
        "# Tarea Numerica Ecuaciones Diferenciales Ordinarias (MA2601)\n",
        "-------------------\n",
        "\n",
        "> Integrantes:\\\n",
        "> $\\rightarrow$ Iann Espinoza;  RUT: 21419586-0 \\\n",
        "> $\\rightarrow$ Jorge Cummins;  RUT: 21353175-1\\\n",
        "> Seccion: 4 \\\n",
        "> Profesor de Catedra: Francisco Ortega C.\\\n",
        "> Fecha de Entrega: 02 de Junio de 2023 \\\n"
      ],
      "metadata": {
        "id": "2BC4-eX2HPgM"
      }
    },
    {
      "cell_type": "markdown",
      "source": [
        "> ## Sobre el Documento"
      ],
      "metadata": {
        "id": "5IjyJDBZHxT-"
      }
    },
    {
      "cell_type": "markdown",
      "source": [
        "\n",
        "> ### Componentes: \n",
        "El presente documento es el solicitado en formato \"*jupyter Notebook*\" de la tarea numerica solicitada, en la cual se encontraran los cuadros de codigo que realizaran lo solicitad (y algunas anotaciones), cuadros de texto explicativos y algunos ejemplos si la situacion lo amerita. \\\n",
        "\\\n",
        "> Los cuadros de texto corresponeran ala informacion sobre el codigo que le prosigue siguiendo un formato de \"*texto arriba, codigo abajo*\", el cual intentara cumplir el objetivo de explicar el funcionamiento del codigo en el presente. Pese a esto tambien existiran anotaciones extras en formato \"# *Anotaciones*\" color \"verde\" en el/los codigos que deberia tener un formato similar al siguiente:\n",
        " \\\n",
        " ```\n",
        "1 # Anotacion \n",
        "2 Este es un codigo:              # Anotacion\n",
        "3     sirve para ejemplificar     # Anotacion\n",
        "4     el formato que se dijo      # Anotacion \n",
        "5                                 #\n",
        "6 previamente                     # Anotacion\n",
        "```\n",
        "\\\n",
        "> Estos seran parte del codigo pero no tendran funcion ninguna mas que ser anotaciones insertadas por los desarrolladores para uso personal, aunque de ser necesario puede utilizarse como informacion sobre el documento/codigo. \\\n",
        " \\\n",
        "> ### Orden:\n",
        ">El documento esta separado en dos secciones aparte de la inicial: \\\n",
        "$\\cdot)$ \"*parte c)*\": donde se contendra a la parte c) de la tarea. \\\n",
        "$\\cdot)$ \"*parte d)*\": donde se contendra a la parte d) de la tarea. \\\n",
        "\\\n",
        ">Es importante informar que de ser necesario, se utilizaran codigos compartidos con el fin de mantener el orden y optimizar el proceso, el cual sera denotado por una anotacion al inicio del cuadro de codigo de forma \"codigo compartido\". Para poder utilizar el codigo donde este siendo reutilizado, sera necesario inicializar el original. Un caso sera la siguiente linea de codigos que permitira el acceso a librerias que podrian ser utilizadas.\n"
      ],
      "metadata": {
        "id": "9l-ZnrpwHzyx"
      }
    },
    {
      "cell_type": "code",
      "execution_count": null,
      "metadata": {
        "id": "iLn8g6EWGktc"
      },
      "outputs": [],
      "source": [
        "# Codigo compartido\n",
        "# Librerias Exportadas\n",
        "import numpy as np\n",
        "import matplotlib.pyplot as plt\n",
        "from scipy.integrate import solve_ivp\n",
        "import pandas as pd\n"
      ]
    },
    {
      "cell_type": "markdown",
      "source": [
        "> ## Parte $c)$ \"Otra forma para $h$\""
      ],
      "metadata": {
        "id": "c1B_kLd-PwRa"
      }
    },
    {
      "cell_type": "markdown",
      "source": [
        "> Dado al sistema de Ecuaciones Diferenciales (EDOs) utilizados en la parte $b)$ de la primera tarea numerica (es decir, tarea 1), el cual estaba dado por: \n",
        "> \\begin{align*} \\frac{dP}{dt} &= g(N)P-h(P)Z-MP \\\\ \\frac{dZ}{dt} &= \\gamma h(P)Z-KZ \\\\ \\frac{dN}{dt} &= -g(N)P+(1-\\gamma)h(P)Z+MP+KZ \\end{align*} \\\n",
        "> Con $M$, $K$ y $\\gamma$ valores constantes y, $g(N)$ $h(P)$ funciones definidas como sigue: \n",
        ">\\begin{align*} g(N) &= \\frac{V_{m}N }{k_{s}+N}\\\\ h(P) &= R_{m}P+\\Lambda \\end{align*} \\\n",
        "> Con $V_{m}$, $k_{s}$, $R_{m}$ y $\\Lambda$, valores constantes definidos.\n",
        "> Considerando las constantes y condiciones iniciales de la siguiente manera: \n",
        "> \\begin{align*} &M = 0.1,\\  K = 0.2,\\  \\gamma = 0.3 \\\\ &V_{M} = 5,\\  k_{s} = 1  \\\\ &R_{m} = 3.5,\\  \\Lambda = 0.1 \\\\ &X(t=0) = (P(0),\\ N(0),\\ Z(0)) = (0.3,\\ 0.1,\\ 0.6) \\end{align*} \\\n",
        "> Donde estos valores fueron implementados numericamente (es decir, programando) en el siguiente cuadro de codigo compartido durante la realizacion de esta parte en especifico de la tarea:"
      ],
      "metadata": {
        "id": "EC11CiIVTvLB"
      }
    },
    {
      "cell_type": "code",
      "source": [
        "# Valores, constantes, funciones y/o parametros utilizados \n",
        "# Nombres                                                                         \n",
        "# P: P                                                                            \n",
        "# Z: Z                                                                           \n",
        "# N: N\n",
        "\n",
        "# Condiciones iniciales\n",
        "P0 = 0.3                                                                         # -|      \n",
        "Z0 = 0.1                                                                         #  |--->|Condiciones iniciales EDO\n",
        "N0 = 0.6                                                                         # -|  \n",
        "X0 = P0, Z0, N0                                                                  # Tupla de condiciones iniciales\n",
        "\n",
        "# Constantes\n",
        "M = 0.1                                                                          # -|\n",
        "K = 0.2                                                                          #  |--->|Valores constantes del sistema de EDOs\n",
        "gamma = 0.3                                                                      # -|\n",
        "\n",
        "# ctes funcion g(N)\n",
        "Vm = 5                                                                           # -|\n",
        "k = 1                                                                            #  |--->|Constantes funcion g(N)\n",
        "ctesg = Vm, k                                                                    # -|\n",
        "\n",
        "# ctes h\n",
        "Rm = 3.5                                                                         # -|\n",
        "LAMBDA = 0.1                                                                     #  |--->|Constantes funcion h(p)\n",
        "ctesh = Rm, LAMBDA                                                               # -|                  \n",
        "                            \n",
        "# Tupla ctes                                \n",
        "ctes = M, K, gamma, Vm, k, Rm, LAMBDA                                            # Tupla que contiene a las constantes utilizadas (todas)   \n",
        "\n",
        "# Tiempo                                                      \n",
        "t1 = (0, 70)                                                                      # Intervalo de t en [0, 70]                                                                   \n",
        "\n",
        "# configuraciones error asociado                                                 # Error asociado a la realizacion en RK45\n",
        "# Conf1                                                                          # Configuracion de error 1 (configuracion 1; conf1) \n",
        "rtol1 = 10**(-3)                                                                 # -|--->|atol = rtol ~~~~> configuracion 1\n",
        "atol1 = 10**(-3)                                                                 # -|\n",
        "# Conf2                                                                          # Configuracion de error 2 (configuracion 2; conf2)\n",
        "rtol2 =10**(-13)                                                                 # -|--->|atol = rtol ~~~~> configuracion 2\n",
        "atol2 =10**(-13)                                                                 # -|  \n"
      ],
      "metadata": {
        "id": "FxCZ_7inRG05"
      },
      "execution_count": null,
      "outputs": []
    },
    {
      "cell_type": "markdown",
      "source": [
        "> Teniendo en cuenta el enunciado, y con las constantes, funciones y condiciones iniciales ya planteadas, la realizacion a las preguntas propuestas quedarian como sigue:"
      ],
      "metadata": {
        "id": "-D9wGX7BaAgP"
      }
    },
    {
      "cell_type": "markdown",
      "source": [
        "> ### 1. Resolver numericamente el sistema para $t \\in [0, 70]$ utilizando un solver, el metodo \"*Runge-Kutta-45*\" para dos configuraciones de error diferentes (las que llamaremos conf1 y conf2 respectivamente): \n",
        "> ### $\\rightarrow$ conf1: 1atol = 1rtol = $10^{-3}$ \n",
        "> ### $\\rightarrow$ conf2: 1atol = 1rtol = $10^{-13}$"
      ],
      "metadata": {
        "id": "f3P9V08kcZNg"
      }
    },
    {
      "cell_type": "markdown",
      "source": [
        "> Para resolver numericamente el sistema, primero debemos definir las funciones precentes en el sistema \"$g(N)$\" y \"$h(P)$\". Teniendo en cuenta las constantes definidas en el cuadro de codigo inicial (no el encargado de importar librerias), tendriamos que las funciones estarian dadas por: "
      ],
      "metadata": {
        "id": "eEKoKbHzdUDf"
      }
    },
    {
      "cell_type": "code",
      "source": [
        "# Funciones usadas \n",
        "# Funcion g(N)\n",
        "def g(N,Vm,k):\n",
        "    numerador = Vm*N                                                             # Planteamos el numerador de la funcion          \n",
        "    denominador = k + N                                                          # Planteamos el denominador de la funcion\n",
        "    g = numerador/denominador                                                    # En base a lo anterior, generamos el g\n",
        "    return g  \n",
        "\n",
        "# Funcion h(P)\n",
        "def h(P ,Rm, LAMBDA):                                                            \n",
        "    ashe = Rm*P                                                                  # Planteamos el producto entre variables \n",
        "    h = ashe + LAMBDA                                                            # Con el producto, planteamos el valor de \"h\" en base a la suma     \n",
        "    return h\n",
        "    "
      ],
      "metadata": {
        "id": "NrJvzpvqP1xy"
      },
      "execution_count": null,
      "outputs": []
    },
    {
      "cell_type": "markdown",
      "source": [
        "> Realizadas las funciones, queda definir la solucion al sistema como tal. Si bien su solucion se basara en la utilizacion de librerias externas (destacando \"*Scipy*\" en este proceso), debemos definir el lado derecho de la EDO del sistema. Para la realizacion de este ultimo, nos basaremos en la forma del sistema:"
      ],
      "metadata": {
        "id": "WV3v0-b9eAle"
      }
    },
    {
      "cell_type": "code",
      "source": [
        "# Lado derecho de la EDO\n",
        "# Definimos funcion lado derecho del sistema de EDOs\n",
        "def Fderecho(t, X, ctes):                                                        # A diferencia de la primera tarea, es necesario expresar la variable independiente, en este caso \"t\"       \n",
        "    P, Z, N = X                                                                  # Tula que contiene a las funciones a obtener   \n",
        "    M, K, gamma, Vm, k, Rm, LAMBDA = ctes                                        # Descomposicion de tupla a valores constantes\n",
        "    hashe = h(P, Rm, LAMBDA)                                                     # Generacion (o llamado) a funcion h(P)\n",
        "    ge = g(N, Vm, k)                                                             # Generacion (o llamado) a funcion g(N)\n",
        "    dP = ge*P-hashe*Z - M*P                                                      # -|\n",
        "    dZ = gamma*hashe*Z - K*Z                                                     #  |--->|Definimos las soluciones a generar (parecido a forma del sistema es mera coincidencia)  \n",
        "    dN = (-1)*ge*P + (1-gamma)*hashe*Z + M*P + K*Z                               # -| \n",
        "    Qx = np.array([dP, dZ, dN])                                                  # Realizacion lado derecho     \n",
        "    return Qx\n"
      ],
      "metadata": {
        "id": "VsyBz9ncSKb5"
      },
      "execution_count": null,
      "outputs": []
    },
    {
      "cell_type": "markdown",
      "source": [
        "> Definido el lado derecho, falta el dar solucion al sistema. Para finalizar este proceso, definimos una variable en base a la funcion \"*solve_ivp*\" proveniente de la libreria Scipy. Esta funcion se encargaria de obtener la solucion en base a un metodo numerico como seria el \"*Runge-Kutta-45*\". Esta funcion, aplicandole (o simplemente ingresandoles los errores \"*conf1*\" y \"*conf2*\") arrojaria los siguientes resultados:\n",
        "\n"
      ],
      "metadata": {
        "id": "njPbVLT5fGS_"
      }
    },
    {
      "cell_type": "code",
      "source": [
        "# Solucion EDO para diferentes casos\n",
        "\n",
        "# Solucion para error configuracion 1\n",
        "YhYp1 = solve_ivp(Fderecho, t1, X0, method= \"RK45\",  args = (ctes,),             # -|    |Solucion para el caso con error asociado a conf1.\n",
        "                    rtol = rtol1, atol = atol1)                                  #  |--->|Se encuentra ACTIVADA\n",
        "I1, X1 = YhYp1[\"t\"], YhYp1[\"y\"]                                                  #  |    | \n",
        "P1, Z1, N1 = X1[0], X1[1], X1[2]                                                 # -|\n",
        "\n",
        "# Solucion para error configuracion 2\n",
        "YhYp2 = solve_ivp(Fderecho, t1, X0, method= \"RK45\",  args = (ctes,),              # -|    |Solucion para el caso con error asociado a conf2\n",
        "                  rtol = rtol2, atol = atol2)                                    #  |--->|Se encuentra ACTIVADA\n",
        "I2, X2 = YhYp2[\"t\"], YhYp2[\"y\"]                                                  #  |    |\n",
        "P2, Z2, N2 = X2[0], X2[1], X2[2]                                                 # -|   \n"
      ],
      "metadata": {
        "id": "PYFULqWESXDJ"
      },
      "execution_count": null,
      "outputs": []
    },
    {
      "cell_type": "markdown",
      "source": [
        "> Finalmente, el bosquejo del grafico estaria dado por las siguientes funciones."
      ],
      "metadata": {
        "id": "8wgDYZCTTXGY"
      }
    },
    {
      "cell_type": "code",
      "source": [
        "# Grafico de soluciones en 2D (para P(t), Z(t), N(t) en un mismo bosquejo)\n",
        "# Caso con error configuracion 1\n",
        "plt.figure(figsize=(7,5))                                                        # Tamaño de la figura\n",
        "plt.plot(I1, P1, label = \"P en funcion al tiempo (P(t))\")                        # -|\n",
        "plt.plot(I1, N1, label = \"N en funcion al tiempo (Z(t))\")                        #  |--->|Realizacion Grafo\n",
        "plt.plot(I1, Z1, label = \"Z en funcion al tiempo (N(t))\")                        # -|\n",
        "plt.title(\"Comportamiento de P, N, Z con respecto al tiempo.\"\n",
        "\" \\n Caso con error: $10^{-3}$\")                                                 # Titulo de la figura\n",
        "plt.xlabel(\"Tiempo (t)\")                                                         # -|--->|Rotulo Ejes\n",
        "plt.ylabel(\"Variables: P(t), N(t), Z(t)\")                                        # -|  \n",
        "plt.legend()                                                                     # Genera en pantalla los rotulos (titulos y rotulos) \n",
        "plt.show()                                                                       # Genera la figura final \n",
        "print()\n",
        "\n",
        "# Caso con error configuracion 2\n",
        "plt.figure(figsize=(7,5))                                                        # Tamaño de la figura\n",
        "plt.plot(I2, P2, label = \"P en funcion al tiempo (P(t))\")                        # -|\n",
        "plt.plot(I2, N2, label = \"N en funcion al tiempo (N(t))\")                        #  |--->|Realizacion Grafo\n",
        "plt.plot(I2, Z2, label = \"Z en funcion al tiempo (Z(t))\")                        # -|\n",
        "plt.title(\"Comportamiento de P, N, Z con respecto al tiempo.\"  \n",
        "\" \\n Caso con error: $10^{-13}$\")                                                # Titulo de la figura\n",
        "plt.xlabel(\"Tiempo (t)\")                                                         # -|--->|Rotulo Ejes\n",
        "plt.ylabel(\"Variables: P(t), N(t), Z(t)\")                                        # -|  \n",
        "plt.legend()                                                                     # Genera en pantalla los rotulos (titulos y rotulos) \n",
        "plt.show()                                                                       # Genera la figura final \n"
      ],
      "metadata": {
        "id": "7gJVB3_8TXhR"
      },
      "execution_count": null,
      "outputs": []
    },
    {
      "cell_type": "markdown",
      "source": [
        "> ### 2. Bosquejo de $(P, N, Z)$ en trs dimensiones (3D), dado a $P, Z, N$ obtenidos en la parte previa, para cada caso realizado.\n"
      ],
      "metadata": {
        "id": "44zY_RPUinY3"
      }
    },
    {
      "cell_type": "markdown",
      "source": [
        "> Para esta parte, se pide realizar un grafico de los valores de $(P, N, Z)$ realizados. Para esto, se baso en los graficos de plano de fase realizados en la parte $a)$ y $b)$ (no se omitio informacion, todo fue debidamente re-incorporado para esta situacion) para la realizacion de los graficos en tres dimensiones. Finalmente, estos quedarian de la siguiente forma:"
      ],
      "metadata": {
        "id": "286Tu1qlvNd0"
      }
    },
    {
      "cell_type": "code",
      "source": [
        "# Grafico 3D para los puntos de P(t), Z(t), N(t) a la vez (P, N, Z)              # ~~~~> grafico no dependiente del tiempo \"de manera directa\" (cualitativamente hablando)\n",
        "# Caso con error asociado configuracion 1\n",
        "plt.figure(figsize=(7, 5))                                                       # Tamaño de la figura\n",
        "ax = plt.axes(projection='3d')                                                   # Generar grafico en 3D\n",
        "ax.plot(P1, N1, Z1)                                                              # Valores a graficar   \n",
        "ax.set_title(' Grafico para (P, Z, N).'\n",
        "' \\n  Caso con error asociado: $10^{-3}$ ')                                      # Generar titulo de la grafica     \n",
        "ax.set_xlabel('P')                                                               # -|\n",
        "ax.set_ylabel('N')                                                               #  |--->|Rotular ejes\n",
        "ax.set_zlabel('Z')                                                               # -|  \n",
        "plt.show()       \n",
        "print()\n",
        "\n",
        "# Caso con error asociado a configuracion 2\n",
        "plt.figure(figsize=(7,5))                                                       # Tamaño de la figura\n",
        "ax = plt.axes(projection='3d')                                                   # Generar grafico en 3D\n",
        "ax.plot(P2, N2, Z2)                                                              # Valores a graficar   \n",
        "ax.set_title(' Grafico para (P, N, Z).'\n",
        "' \\n  Caso con error asociado: $10^{-13}$ ')                                     # Generar titulo de la grafica     \n",
        "ax.set_xlabel('P')                                                               # -|\n",
        "ax.set_ylabel('N')                                                               #  |--->|Rotular ejes\n",
        "ax.set_zlabel('Z')                                                               # -|  \n",
        "plt.show()     \n"
      ],
      "metadata": {
        "id": "K2yp6wiIintf"
      },
      "execution_count": null,
      "outputs": []
    },
    {
      "cell_type": "markdown",
      "source": [
        "> ### 3. ¿Cual configuracion entrega el mejor resultado?. Para la configuracion 2, ¿Que se observa?¿A que parecen converger los resultados?\n"
      ],
      "metadata": {
        "id": "JQ6CeUBLuyTE"
      }
    },
    {
      "cell_type": "markdown",
      "source": [
        "> Lo primero a notar en este caso, seria sobre la forma de las curvas. Tomando las dos figuras generadas en funcion del tiempo (parte c 1.), notar que estas se irian pareciendo., sin embargo, con diferente suavidad en las curvas. \\\n",
        "> \n",
        "> En base a la informacion perteneciente al funcionamiento del \"*solver*\" presente segun el grupo desarrollador de la libreria \"*Scipy*\", la razon de las diferentes suavidades se debe a parametros \"atol\" y \"rtol\", parametros encargados de determinar el error que los operadores utilizados para realizar el metodo numerico manejan. La principal funcion, es tener un error estimado en la realizacion del metodo el cual se ve influenciado en la cantidad de resultados (o el tamaño de los vectores generados por estos) en la variable dependiente (eje OY, las poblaciones en este caso). \\\n",
        "> \n",
        "> Nuevamnente, basandose en la informacion dada por el grupo de desarrolladores de la libreria utilizada, el error en utilizando estos parametros normalmente esta dado por la siguiente inecuacion: \\\n",
        ">  \\begin{align*} \\frac{\\|y-y_{calculado} \\|}{rtol\\cdot  \\|y\\| + atol} & \\leq 1\\end{align*} \\\n",
        "> En este caso, se tomo en consideracion el parrametro $y$ como los valores resultado reales e $y_{calculado}$ como los valores que se han ido calculando por la realizacion del metodo. \\\n",
        "> ¿Que podemos decir de la ecuacion? Notemos lo siguiente, sea $y$ solucion arbitraria una EDO y, usando los errores dados por enunciado: \\\n",
        ">  \\begin{align*}  rtol2\\cdot \\|y\\| + atol2 & < rtol1\\cdot  \\|y\\| + atol1 & \\text{(pues: $10^{-13} < 10^{-3}$)} \\\\ \\implies \\frac{1}{rtol2\\cdot  \\|y\\| + atol2} &> \\frac{1}{rtol1\\cdot  \\|y\\| + atol1} \\\\ \\therefore \\frac{\\|y-y_{calculado} \\|}{rtol1\\cdot  \\|y\\| + atol1} &< \\frac{\\|y-y_{calculado} \\|}{rtol2\\cdot  \\|y\\| + atol2} \\leq 1  \\\\ \\implies \\|y-y_{calculado} \\|_{\\text{conf1}} &\\leq rtol1\\cdot  \\|y\\| + atol1 & (1)\\\\ \\implies \\|y-y_{calculado} \\|_{\\text{conf2}} &\\leq rtol2\\cdot  \\|y\\| + atol2 & (2)\\\\ \\implies \\|y-y_{calculado} \\|_{\\text{conf1}} &> \\|y-y_{calculado} \\|_{\\text{conf2}} & \\text{((1) y (2)) (3)}\\end{align*} \\\n",
        ">\n",
        "> ¿Que podemos decir de esto? Tomando el resultado por la ultima inecuacion (3), tenemos que, para el error dado por la configuracion 1, la diferencia entre un \"y\" o resultado arbitrario de la EDO y un valor dado por el mmetodo numerico, seria mayor que aquella dada por la configuracion 2, es decir, los resultados para el caso de configuracion 2 (recordando que se trata de $10^{-13}$) se asemejarian mas a los resultados (diferencia mas cercana al 0) que aquella dada por la configuracion 1. Debido a esto, se tiene que la solucion para el caso de la configuracion 2 entregaria resultados con un error asociado menor, es decir, seria un resultado mas exacto o \"*mejor*\" al comportamiento real del sistema de EDOs. \\\n",
        "> \n",
        "> Finalmente, si tomamos la configuracion 2, en este caso se tendria un comportamiento en relacion a la cantidad de diferentes de variables en el ambiente. Esto es que, al haber un aumento en el ambiente de N, despues de cierto tiempo \"t\", la variable P aumenta, lo cual ocurrira de misma forma para la variable Z pero en torno la variable P. \\\n",
        ">\n",
        "> Ahora, para la situcaion presente, la cantidad dada por las funciones viene dada por los parametros resultantes de las funciones $g(N)$ y $h(P)$. Si prestamos atencion a los graficos presentes, estos al momento de aproximarse a un dia $t=70$ tienden (realizando un analisis visual al grafico en funcion del tiempo) a disminuir su tasa de cambio a valores que, la poblacion pareceria estar constante. Viendo los graficos entregados en la parte 2, las poblaciones de $P, Z, N$ alcanzan un comportamiento similar que culmina en una cantidad similar para cada funcion, lo que significa una tasa de variacion (entiendase por variacion, a la derivada enn cada punto) que, disminuyo con respecto al inicio. \\\n",
        ">\n",
        "> De forma resumida, para la configuracion 2, a un tiempo $t \\to \\infty$, la tasa de cambio de las funciones $P, Z, N$ disminuiria a valores cercanos a cero, llevando a una cantidad constante de estos parametros para el tiempo nombrado. \\"
      ],
      "metadata": {
        "id": "ttvwdr4L4yYJ"
      }
    },
    {
      "cell_type": "markdown",
      "source": [
        "> ## Parte $d)$ \"Inferencia del parametro del modelo simplificado\""
      ],
      "metadata": {
        "id": "agpqie3pP2EZ"
      }
    },
    {
      "cell_type": "markdown",
      "source": [
        "> La parte final de la tarea, es decir, la parte $d)$, tambien conto con la presencia de un sistema de ecuaciones diferenciales (sistema de EDOs). En este caso dado por: \n",
        "> \\begin{align*} \\frac{dP}{dt} &= -PZ \\\\ \\frac{dZ}{dt} &= \\gamma PZ \\\\ \\frac{dN}{dt} &= (1-\\gamma)PZ\\\\  \\end{align*} \\\n",
        ">\n",
        "> Con $P_{0}$, $Z_{0}$, $N_{0}$ las condiciones iniciales. Sin embargo, en esta ocacion la unica constante presente, $\\gamma$ seria desconocida, ademas de que se tendrian una coleccion de datos externa como referencia para el desarrolllo de esta parte. \n",
        "> Por ultimo, se agregaria un contexto al desarrollo, en la cual se intentaria modelar el comportamiento de tres poblaciones en un ecosistema, las cuales se les otorgaria una funcion respectiva: \\\n",
        "> $\\rightarrow$P: Fitoplancton \\\n",
        "> $\\rightarrow$Z: Zooplancton \\\n",
        "> $\\rightarrow$N: Nutrientes en el ambiente \\\n",
        ">  \n",
        "> De estas nuevas variables/funciones presentes, se tendria su comportamiento registrado en un documento .csv, el cual seria utilizado durante la realizacion.\n",
        "> Finalmente, se tedria lo siguiente."
      ],
      "metadata": {
        "id": "ZZC2czTIY8Lt"
      }
    },
    {
      "cell_type": "markdown",
      "source": [
        "> ### 1. Demostrar que el sistema cumple: $\\frac{dZ}{dP} = -\\gamma$"
      ],
      "metadata": {
        "id": "bgkUoiMwxO1x"
      }
    },
    {
      "cell_type": "markdown",
      "source": [
        "> Demostración:\n",
        ">\n",
        "> Se pide demostrar la igualdad de $\\frac{dZ}{dP}$, esto nos dice implicitamente que la función $Z$ se puede escribir en función de $P$, y tambien se sabe que P es una función dependiente de t, por lo tanto, se va a definir $Z$ de la siguiente manera: $Z=Z(P(t))$.\n",
        "> Ahora, si derivamos $Z$ con respecto a $P$ obtenemos lo siguiente:\n",
        ">\\begin{align*} \\frac{dZ}{dt}& =\\frac{dZ}{dt}(P(t)) \\end{align*} \\\n",
        "> Para simplificar el desarrollo, durante todo el proceso se asumira lo siguiente:\n",
        "> \\begin{align*} Z &= Z(P(t)) & ((Z \\circ P)(t))\\\\ P &= P(t) \\end{align*}\n",
        "> Ahora por regla de la cadena, primero se va a derivar $Z$ con respecto a $P$ y luego se va a derivar $P$ con respecto a $t$, quedando lo siguiente: \n",
        "> \\begin{align*}\\frac{dZ}{dt} &= \\frac{dZ}{dP}\\cdot\\frac{dP}{dt} \\end{align*} \n",
        "> Por enunciado se sabe que: \n",
        "> \\begin{align*} \\frac{dP}{dt} &= -PZ \\end{align*} \\\n",
        "> $\\therefore$ podemos reemplazar en la expresión anterior.  \n",
        "> \\begin{align*} \\frac{dZ}{dP}\\cdot\\frac{dP}{dt}=\\frac{dZ}{dP}\\cdot(-PZ)=\\frac{dZ}{dt} \\end{align*} \\\n",
        "> Por enunciado tambien se tiene que: \n",
        "> \\begin{align*} \\frac{dZ}{dt} &= \\gamma PZ \\end{align*} \\\n",
        "> $\\therefore$ si reemplazamos lo anterior vamos a obtener lo siguiente: \\\n",
        "> \\begin{align*} &\\gamma PZ = \\frac{dZ}{dP}\\cdot(-PZ) \\\\ \\implies &\\frac{dZ}{dP} = \\frac{\\gamma PZ}{-PZ}= -\\gamma \\end{align*} \\\n",
        "> Lo cual, es lo que se ha solicitado demostrar.\n",
        "> Notemos que, $\\gamma$ es una constante, y como: \n",
        "> \\begin{align*} \\frac{dZ}{dP} &= -\\gamma & \\text{($\\star$)}\\end{align*} \\\n",
        "> Como $\\gamma$ es una constante, el resultado anterior nos quiere decir que $Z$ c/r a $P$ es una función afín, con pendiente $-\\gamma$ y coeficiente de posición $n\\in \\mathbb R$, es decir, una función de la siguiente forma:\n",
        "> \\begin{align*} Z = -\\gamma P + n &  \\\\ & & & & & \\square \\end{align*}\n",
        " "
      ],
      "metadata": {
        "id": "Mc1DLhUUsjZ9"
      }
    },
    {
      "cell_type": "markdown",
      "source": [
        "> ### 2. Obtencion de la base de datos alojados en el repositorio."
      ],
      "metadata": {
        "id": "xPeynAcoQeOh"
      }
    },
    {
      "cell_type": "markdown",
      "source": [
        "> Inicialmente, se deberian extraer (u obtener) los datos mencionados previamente. Para esto se clono el repositorio utilizando las funciones dadas por el programa utilizado \"*google colab*\", el cual quedaria representado en el siguiente cuadro de codigos:"
      ],
      "metadata": {
        "id": "i5TTwr_BcHij"
      }
    },
    {
      "cell_type": "code",
      "source": [
        "# Cuadro creado para, en base a una base de datos, extraer la informacion de este\n",
        "!git clone https://github.com/diegoolguinw/MA2601TN2023.git\n"
      ],
      "metadata": {
        "id": "O2B2zcLtJSid",
        "colab": {
          "base_uri": "https://localhost:8080/"
        },
        "outputId": "5f433a37-22da-4953-e107-a2864fa0a6b1"
      },
      "execution_count": null,
      "outputs": [
        {
          "output_type": "stream",
          "name": "stdout",
          "text": [
            "fatal: destination path 'MA2601TN2023' already exists and is not an empty directory.\n"
          ]
        }
      ]
    },
    {
      "cell_type": "markdown",
      "source": [
        "> Este ultimo solo permite acceder (o clonar) el documento para su utilizacion, por lo cual, si queriamos obtener o representar (entiendase como mostrar) los datos, realizamos las siguientes operaciones en el cuadro de codigos, los cuales permiten ubicar, leer el documento (el sistema) y finalmente mostrar los resultados:"
      ],
      "metadata": {
        "id": "m5iRMetmQNZh"
      }
    },
    {
      "cell_type": "code",
      "source": [
        "# Obtener datos para utilizacion\n",
        "path = \"/content/MA2601TN2023/AtlanticoNorte.csv\"                                # Localizar el archivo \n",
        "data = pd.read_csv(path)                                                         # Leer datos\n",
        "\n",
        "# Mostrar datos del archivo importado\n",
        "data                                                                             # Printear o mostrar los datos\n"
      ],
      "metadata": {
        "id": "yzgDLzN2KPSN",
        "colab": {
          "base_uri": "https://localhost:8080/"
        },
        "outputId": "157b3125-c8c6-4163-8458-8e3d6b193c09"
      },
      "execution_count": null,
      "outputs": [
        {
          "output_type": "execute_result",
          "data": {
            "text/plain": [
              "           P         Z         N\n",
              "0   0.713189  0.206493  0.144881\n",
              "1   0.561768  0.258218  0.209565\n",
              "2   0.430482  0.313622  0.306605\n",
              "3   0.337355  0.390361  0.351789\n",
              "4   0.220753  0.424513  0.398433\n",
              "5   0.159331  0.472325  0.459729\n",
              "6   0.089962  0.478597  0.516824\n",
              "7   0.102407  0.478754  0.527600\n",
              "8   0.056574  0.496342  0.519272\n",
              "9   0.071715  0.479255  0.538065\n",
              "10  0.049615  0.496271  0.546204\n",
              "11  0.033343  0.519057  0.515466\n",
              "12  0.036342  0.499872  0.561581\n",
              "13  0.052080  0.495959  0.522483\n",
              "14  0.045063  0.509437  0.556798\n",
              "15  0.047632  0.496867  0.530847\n",
              "16  0.034533  0.522284  0.525545\n",
              "17  0.012012  0.506310  0.562888\n",
              "18  0.024868  0.513602  0.528240\n",
              "19  0.027101  0.488261  0.526116\n",
              "20  0.013951  0.519934  0.567833"
            ],
            "text/html": [
              "\n",
              "  <div id=\"df-632e86ad-7248-4513-9a84-82a72599374a\">\n",
              "    <div class=\"colab-df-container\">\n",
              "      <div>\n",
              "<style scoped>\n",
              "    .dataframe tbody tr th:only-of-type {\n",
              "        vertical-align: middle;\n",
              "    }\n",
              "\n",
              "    .dataframe tbody tr th {\n",
              "        vertical-align: top;\n",
              "    }\n",
              "\n",
              "    .dataframe thead th {\n",
              "        text-align: right;\n",
              "    }\n",
              "</style>\n",
              "<table border=\"1\" class=\"dataframe\">\n",
              "  <thead>\n",
              "    <tr style=\"text-align: right;\">\n",
              "      <th></th>\n",
              "      <th>P</th>\n",
              "      <th>Z</th>\n",
              "      <th>N</th>\n",
              "    </tr>\n",
              "  </thead>\n",
              "  <tbody>\n",
              "    <tr>\n",
              "      <th>0</th>\n",
              "      <td>0.713189</td>\n",
              "      <td>0.206493</td>\n",
              "      <td>0.144881</td>\n",
              "    </tr>\n",
              "    <tr>\n",
              "      <th>1</th>\n",
              "      <td>0.561768</td>\n",
              "      <td>0.258218</td>\n",
              "      <td>0.209565</td>\n",
              "    </tr>\n",
              "    <tr>\n",
              "      <th>2</th>\n",
              "      <td>0.430482</td>\n",
              "      <td>0.313622</td>\n",
              "      <td>0.306605</td>\n",
              "    </tr>\n",
              "    <tr>\n",
              "      <th>3</th>\n",
              "      <td>0.337355</td>\n",
              "      <td>0.390361</td>\n",
              "      <td>0.351789</td>\n",
              "    </tr>\n",
              "    <tr>\n",
              "      <th>4</th>\n",
              "      <td>0.220753</td>\n",
              "      <td>0.424513</td>\n",
              "      <td>0.398433</td>\n",
              "    </tr>\n",
              "    <tr>\n",
              "      <th>5</th>\n",
              "      <td>0.159331</td>\n",
              "      <td>0.472325</td>\n",
              "      <td>0.459729</td>\n",
              "    </tr>\n",
              "    <tr>\n",
              "      <th>6</th>\n",
              "      <td>0.089962</td>\n",
              "      <td>0.478597</td>\n",
              "      <td>0.516824</td>\n",
              "    </tr>\n",
              "    <tr>\n",
              "      <th>7</th>\n",
              "      <td>0.102407</td>\n",
              "      <td>0.478754</td>\n",
              "      <td>0.527600</td>\n",
              "    </tr>\n",
              "    <tr>\n",
              "      <th>8</th>\n",
              "      <td>0.056574</td>\n",
              "      <td>0.496342</td>\n",
              "      <td>0.519272</td>\n",
              "    </tr>\n",
              "    <tr>\n",
              "      <th>9</th>\n",
              "      <td>0.071715</td>\n",
              "      <td>0.479255</td>\n",
              "      <td>0.538065</td>\n",
              "    </tr>\n",
              "    <tr>\n",
              "      <th>10</th>\n",
              "      <td>0.049615</td>\n",
              "      <td>0.496271</td>\n",
              "      <td>0.546204</td>\n",
              "    </tr>\n",
              "    <tr>\n",
              "      <th>11</th>\n",
              "      <td>0.033343</td>\n",
              "      <td>0.519057</td>\n",
              "      <td>0.515466</td>\n",
              "    </tr>\n",
              "    <tr>\n",
              "      <th>12</th>\n",
              "      <td>0.036342</td>\n",
              "      <td>0.499872</td>\n",
              "      <td>0.561581</td>\n",
              "    </tr>\n",
              "    <tr>\n",
              "      <th>13</th>\n",
              "      <td>0.052080</td>\n",
              "      <td>0.495959</td>\n",
              "      <td>0.522483</td>\n",
              "    </tr>\n",
              "    <tr>\n",
              "      <th>14</th>\n",
              "      <td>0.045063</td>\n",
              "      <td>0.509437</td>\n",
              "      <td>0.556798</td>\n",
              "    </tr>\n",
              "    <tr>\n",
              "      <th>15</th>\n",
              "      <td>0.047632</td>\n",
              "      <td>0.496867</td>\n",
              "      <td>0.530847</td>\n",
              "    </tr>\n",
              "    <tr>\n",
              "      <th>16</th>\n",
              "      <td>0.034533</td>\n",
              "      <td>0.522284</td>\n",
              "      <td>0.525545</td>\n",
              "    </tr>\n",
              "    <tr>\n",
              "      <th>17</th>\n",
              "      <td>0.012012</td>\n",
              "      <td>0.506310</td>\n",
              "      <td>0.562888</td>\n",
              "    </tr>\n",
              "    <tr>\n",
              "      <th>18</th>\n",
              "      <td>0.024868</td>\n",
              "      <td>0.513602</td>\n",
              "      <td>0.528240</td>\n",
              "    </tr>\n",
              "    <tr>\n",
              "      <th>19</th>\n",
              "      <td>0.027101</td>\n",
              "      <td>0.488261</td>\n",
              "      <td>0.526116</td>\n",
              "    </tr>\n",
              "    <tr>\n",
              "      <th>20</th>\n",
              "      <td>0.013951</td>\n",
              "      <td>0.519934</td>\n",
              "      <td>0.567833</td>\n",
              "    </tr>\n",
              "  </tbody>\n",
              "</table>\n",
              "</div>\n",
              "      <button class=\"colab-df-convert\" onclick=\"convertToInteractive('df-632e86ad-7248-4513-9a84-82a72599374a')\"\n",
              "              title=\"Convert this dataframe to an interactive table.\"\n",
              "              style=\"display:none;\">\n",
              "        \n",
              "  <svg xmlns=\"http://www.w3.org/2000/svg\" height=\"24px\"viewBox=\"0 0 24 24\"\n",
              "       width=\"24px\">\n",
              "    <path d=\"M0 0h24v24H0V0z\" fill=\"none\"/>\n",
              "    <path d=\"M18.56 5.44l.94 2.06.94-2.06 2.06-.94-2.06-.94-.94-2.06-.94 2.06-2.06.94zm-11 1L8.5 8.5l.94-2.06 2.06-.94-2.06-.94L8.5 2.5l-.94 2.06-2.06.94zm10 10l.94 2.06.94-2.06 2.06-.94-2.06-.94-.94-2.06-.94 2.06-2.06.94z\"/><path d=\"M17.41 7.96l-1.37-1.37c-.4-.4-.92-.59-1.43-.59-.52 0-1.04.2-1.43.59L10.3 9.45l-7.72 7.72c-.78.78-.78 2.05 0 2.83L4 21.41c.39.39.9.59 1.41.59.51 0 1.02-.2 1.41-.59l7.78-7.78 2.81-2.81c.8-.78.8-2.07 0-2.86zM5.41 20L4 18.59l7.72-7.72 1.47 1.35L5.41 20z\"/>\n",
              "  </svg>\n",
              "      </button>\n",
              "      \n",
              "  <style>\n",
              "    .colab-df-container {\n",
              "      display:flex;\n",
              "      flex-wrap:wrap;\n",
              "      gap: 12px;\n",
              "    }\n",
              "\n",
              "    .colab-df-convert {\n",
              "      background-color: #E8F0FE;\n",
              "      border: none;\n",
              "      border-radius: 50%;\n",
              "      cursor: pointer;\n",
              "      display: none;\n",
              "      fill: #1967D2;\n",
              "      height: 32px;\n",
              "      padding: 0 0 0 0;\n",
              "      width: 32px;\n",
              "    }\n",
              "\n",
              "    .colab-df-convert:hover {\n",
              "      background-color: #E2EBFA;\n",
              "      box-shadow: 0px 1px 2px rgba(60, 64, 67, 0.3), 0px 1px 3px 1px rgba(60, 64, 67, 0.15);\n",
              "      fill: #174EA6;\n",
              "    }\n",
              "\n",
              "    [theme=dark] .colab-df-convert {\n",
              "      background-color: #3B4455;\n",
              "      fill: #D2E3FC;\n",
              "    }\n",
              "\n",
              "    [theme=dark] .colab-df-convert:hover {\n",
              "      background-color: #434B5C;\n",
              "      box-shadow: 0px 1px 3px 1px rgba(0, 0, 0, 0.15);\n",
              "      filter: drop-shadow(0px 1px 2px rgba(0, 0, 0, 0.3));\n",
              "      fill: #FFFFFF;\n",
              "    }\n",
              "  </style>\n",
              "\n",
              "      <script>\n",
              "        const buttonEl =\n",
              "          document.querySelector('#df-632e86ad-7248-4513-9a84-82a72599374a button.colab-df-convert');\n",
              "        buttonEl.style.display =\n",
              "          google.colab.kernel.accessAllowed ? 'block' : 'none';\n",
              "\n",
              "        async function convertToInteractive(key) {\n",
              "          const element = document.querySelector('#df-632e86ad-7248-4513-9a84-82a72599374a');\n",
              "          const dataTable =\n",
              "            await google.colab.kernel.invokeFunction('convertToInteractive',\n",
              "                                                     [key], {});\n",
              "          if (!dataTable) return;\n",
              "\n",
              "          const docLinkHtml = 'Like what you see? Visit the ' +\n",
              "            '<a target=\"_blank\" href=https://colab.research.google.com/notebooks/data_table.ipynb>data table notebook</a>'\n",
              "            + ' to learn more about interactive tables.';\n",
              "          element.innerHTML = '';\n",
              "          dataTable['output_type'] = 'display_data';\n",
              "          await google.colab.output.renderOutput(dataTable, element);\n",
              "          const docLink = document.createElement('div');\n",
              "          docLink.innerHTML = docLinkHtml;\n",
              "          element.appendChild(docLink);\n",
              "        }\n",
              "      </script>\n",
              "    </div>\n",
              "  </div>\n",
              "  "
            ]
          },
          "metadata": {},
          "execution_count": 62
        }
      ]
    },
    {
      "cell_type": "markdown",
      "source": [
        "> ### 3. Grafico de Zooplancton (Z) en funcion del Fitoplancton (P)."
      ],
      "metadata": {
        "id": "4ePsfVHpfk5b"
      }
    },
    {
      "cell_type": "markdown",
      "source": [
        "> Para comprobar la realizacion anterior y el desarrollo en la parte 1, se bosquejo la poblacion de zooplancton en funcion de aquella del Fitoplancton (P). En esta puede verse como la cantidad de este (Zooplancton, Z) disimuye conforme aumenta aquella del Fitoplancton (P), es decir, la tasa de descenso es mayor dado a que se tiene una funcion decreciente al tenerse una derivada negativa o menor que cero, pues se encuentra dada por: \n",
        "> \\begin{align*} \\frac{dZ}{dt} &= \\gamma PZ \\\\ \\frac{dZ}{dP} &= -\\gamma & (\\text{por }\\star)\\end{align*} \\\n",
        ">\n",
        "> Por ende, se tiene que tanto los resultados como el bosquejo de resultado concordarian entre si.\n",
        "> El analisis se hizo en base al grafico resultado del siguiente cuadro de codigo:"
      ],
      "metadata": {
        "id": "wgPROrCMfytv"
      }
    },
    {
      "cell_type": "code",
      "source": [
        "P, Z, N = data[\"P\"], data[\"Z\"], data[\"N\"]\n",
        "# Grafico de Z en funcion de P \n",
        "plt.figure(figsize=(7,5))                                                        # Tamaño de la imagen  \n",
        "plt.scatter(P, Z, label = \"Zooplancton (Z)\")                                     #  |--->|Realizacion el Grafo\n",
        "plt.title(\"Poblacion de Zooplancton (Z), en funcion \\n del Fitoplancton\"         # -|--->|Titulo       \n",
        "          \" (P) ($Z(P)$)\")                                                       # -|      \n",
        "plt.xlabel(\"Fitoplancton (P)\")                                                   # -|--->|Rotulo de los Ejes\n",
        "plt.ylabel(\"Poblacion Zooplancton (Z)\")                                          # -| \n",
        "plt.legend()                                                                     # Generar titulo \n",
        "plt.show()                                                                       # Generar crafico \n"
      ],
      "metadata": {
        "id": "SBgZjchh7iVS",
        "colab": {
          "base_uri": "https://localhost:8080/"
        },
        "outputId": "69856163-bfb1-4cca-9ad9-8e2f8b33bb7f"
      },
      "execution_count": null,
      "outputs": [
        {
          "output_type": "display_data",
          "data": {
            "text/plain": [
              "<Figure size 700x500 with 1 Axes>"
            ],
            "image/png": "[encoded data removed]"
          },
          "metadata": {}
        }
      ]
    },
    {
      "cell_type": "markdown",
      "source": [
        "> ### 4. Grafico de poblaciones de Fitoplancton (P), Zooplancton (Z) y Nutrientes (N) en funcion del tiempo."
      ],
      "metadata": {
        "id": "CwtV3yfR7lZz"
      }
    },
    {
      "cell_type": "markdown",
      "source": [
        "> Con la informacion corroborada ya en la parte 3, se realizo un bosquejo en formato \"*scatter*\" de las poblaciones respectivas de Fitoplancton (P), Zooplancton (Z) y Nutrientes en el ambiente (N) (entiendase por poblacion en este caso a cantidad). Ademas, con el fin de tener un idea inicial del comportamiento, se agregaron unas graficas contiunas (extras) al grafico que sigue el formate \"*scatter*\" mencionado. Finalmente, la realizacion estaria dada por el siguiente cuadro de codigo"
      ],
      "metadata": {
        "id": "eF020O7OP3Nq"
      }
    },
    {
      "cell_type": "code",
      "source": [
        "# Grafico de valores extraidos\n",
        "P, Z, N = data[\"P\"], data[\"Z\"], data[\"N\"]                                        # Obtencion de valores para cada caso\n",
        "\n",
        "# Grafico de P, Z, N en funcion al tiempo\n",
        "plt.figure(figsize=(7,5))                                                        # Tamaño de la imagen     \n",
        "plt.scatter(range(len(P)), P, label = \"Fitoplancton en torno\"                    # -|\n",
        "            \" al tiempo ($P(t)$)\")                                               #  |  \n",
        "plt.plot(range(len(P)), P)                                                       #  |\n",
        "plt.scatter(range(len(Z)), Z, label = \"Zooplancton en torno\"                     #  |\n",
        "            \" al tiempo ($Z(t)$)\")                                               #  |--->|Realizacion el Grafo\n",
        "plt.plot(range(len(Z)), Z)                                                       #  |\n",
        "plt.scatter(range(len(N)), N ,label = \"Nutrientes en torno\"                      #  | \n",
        "            \" al tiempo ($N(t)$)\")                                               #  |\n",
        "plt.plot(range(len(N)), N)                                                       # -|  \n",
        "plt.title(\"Poblacion del fitoplancton, zooplancton y\"                            # -|--->|Titulo de la grafica \n",
        "           \"nutrientes en el ambiente \\n ($P(t)$ $Z(t)$ $N(t)$)\")                # -|       \n",
        "plt.xlabel(\"Tiempo\")                                                             # -|--->|Rotulo de los Ejes\n",
        "plt.ylabel(\"Poblacion muestra (para P, Z, N)\")                                   # -| \n",
        "plt.legend()                                                                     # Generar titulo \n",
        "plt.show()                                                                       # Generar grafico \n"
      ],
      "metadata": {
        "id": "0wPjuojjfXYL",
        "colab": {
          "base_uri": "https://localhost:8080/"
        },
        "outputId": "3ffa4f04-c1a5-4d6f-b2ff-a34f386288c7"
      },
      "execution_count": null,
      "outputs": [
        {
          "output_type": "display_data",
          "data": {
            "text/plain": [
              "<Figure size 700x500 with 1 Axes>"
            ],
            "image/png": "[encoded data removed]"
          },
          "metadata": {}
        }
      ]
    },
    {
      "cell_type": "markdown",
      "source": [
        "> ### 5. Regresion lineal y obtencion del $\\gamma$."
      ],
      "metadata": {
        "id": "LT30Z3tYi5Lv"
      }
    },
    {
      "cell_type": "markdown",
      "source": [
        "> Se tiene por enunciado que, de la informacion necesaria para realizar un analisis (es decir, los datos), la constante $\\gamma$ no se encontraria con un valor conocido. Sin embargo, si un comportamiento de las poblaciones, lo cual dado al desarrollo de las partes 1 ($\\star$) y 3, conoceriamos el comportamiento del $\\gamma$, ademas de corroboral la concordancia de bosquejo y datos. \\\n",
        ">\n",
        "> Con esto claro, para dar un valor respectivo al parametro $\\gamma$, se realizo una aproximacion de este ultimo valor. Notando que la tasa de cambio de la poblacion del Zooplancton(Z) en funcion del Fitoplancton (P) estaria dado justamente por este valor, se decidio realizar una regresion lineal para obtener esta tasa y, por consiguiente, el valor del $\\gamma$. \\\n",
        ">\n",
        "> Para realizar esta regresion lineal, se tiene el siguiente cuadro de codigo en donde se uso la funcion de \"*numpy*\" \"*polyfit*\" o aproximacion de un polinomio de grado 1. Este quedaria de la forma:"
      ],
      "metadata": {
        "id": "a7y2j-tf8KA6"
      }
    },
    {
      "cell_type": "code",
      "source": [
        "# Regresion lineal\n",
        "coeficientes = np.polyfit(P, Z, 1)                                               # Polyfit para realizar regresion\n",
        "a = coeficientes[0] # Seria este el valor del gamma                              # Pendiente de la ecuacion \n",
        "b = coeficientes[1]                                                              # Traslacion de la ecuacion\n",
        "\n",
        "# Resultados\n",
        "Ecuacion = 'y='+str(a)+'x+'+str(b)                                               # Print o version \"str()\" de los resultados\n",
        "print(\"El coeficiente \"'a'\" o pendiente de la regresion estaria dado por : \"+\n",
        "      str(a))  \n",
        "print(\"La traslacion o coeficiente \"'b'\" estaria dado por: \"+ str(b))            # -|\n",
        "print()                                                                          #  |--->|Print de resultados    \n",
        "print('Finalmente, la ecuacion seria y=ax+b => '+Ecuacion)                       #  |    |(mostrar resultados de regresion)\n",
        "print('Lo que a significa que, el gamma~'+str(-a)+' <=> gamma = -a')             # -|"
      ],
      "metadata": {
        "id": "6Vl-v0Swk8gG",
        "colab": {
          "base_uri": "https://localhost:8080/"
        },
        "outputId": "53659aff-a522-4b51-ed12-49825b6198cd"
      },
      "execution_count": null,
      "outputs": [
        {
          "output_type": "stream",
          "name": "stdout",
          "text": [
            "El coeficiente a o pendiente de la regresion estaria dado por : -0.4497941388232871\n",
            "La traslacion o coeficiente b estaria dado por: 0.5223679038997382\n",
            "\n",
            "Finalmente, la ecuacion seria y=ax+b => y=-0.4497941388232871x+0.5223679038997382\n",
            "Lo que a significa que, el gamma~0.4497941388232871 <=> gamma = -a\n"
          ]
        }
      ]
    },
    {
      "cell_type": "markdown",
      "source": [
        "> Un factor importante que notar, es el dar a entender que, este \"$\\gamma$\" obtenidos serian una aproximacion del valor real (el cual siguie la regresion lineal). Formalmente tendriamos: \\\n",
        "> \\begin{align*} y &= ax+b & \\text{(Regresion lineal)} \\\\ y &\\approx -0.449794138823287x+0.5223679038997382 & \\text{(Resultado regresion lineal)} \\\\ \\implies & \\gamma = -a \\iff \\gamma \\approx0.449794138823287 & \\text{(Originalment signo contrario)} \\end{align*} \\\n",
        ">\n",
        "> Finalmente, conocido los valores, se realizo un bosquejo de ambos resultados, tanto de aquellos importados, como la recta de regresion lineal o, linea de tendencia ($\\gamma$ seria la pendiente de la regresion en la figura). Esto mediante el siguiente cuadro de codigos que realizan la regresion y bosqueja:"
      ],
      "metadata": {
        "id": "5ZzCAo_ek8p-"
      }
    },
    {
      "cell_type": "code",
      "source": [
        "# Funcion o recta de regresion\n",
        "def Regresion(a,b,x):                                                            # -|--->|Funcion formal en Python para definir \n",
        "  y = x*a+b                                                                      #  |    |la realizacion de la regresion para \n",
        "  return y                                                                       # -|    |el conjunto de datos\n",
        "\n",
        "# Grafico de Z en funcion de P \n",
        "plt.figure(figsize=(7,5))                                                        # Tamaño de la imagen  \n",
        "plt.scatter(P, Z, label = \"Zooplancton (Z)\", c = 'blue')                         # -|~~~~> Grafico valores\n",
        "plt.plot(P, Regresion(a, b, P),                                                  #  |~~~~> Grafico regresion \n",
        "         label = 'Ecuacion regresion lineal ($x\\in P$):'                         #  |\n",
        "         ' \\n'+Ecuacion, c = 'red')                                              #  |\n",
        "plt.title(\"Poblacion de Zooplancton (Z), en funcion \\n del Fitoplancton\"         # -|--->|Titulo       \n",
        "          \" (P) ($Z(P)$)\")                                                       # -|      \n",
        "plt.xlabel(\"Fitoplancton (P)\")                                                   # -|--->|Rotulo de los Ejes\n",
        "plt.ylabel(\"Poblacion Zooplancton (Z)\")                                          # -| \n",
        "plt.legend()                                                                     # Generar titulo \n",
        "plt.show()                                                                       # Generar grafico \n"
      ],
      "metadata": {
        "id": "IXl6siQh8Jx6",
        "colab": {
          "base_uri": "https://localhost:8080/"
        },
        "outputId": "dce33b1b-ad97-456d-864c-b717ab141dba"
      },
      "execution_count": null,
      "outputs": [
        {
          "output_type": "display_data",
          "data": {
            "text/plain": [
              "<Figure size 700x500 with 1 Axes>"
            ],
            "image/png": "[encoded data removed]"
          },
          "metadata": {}
        }
      ]
    },
    {
      "cell_type": "markdown",
      "source": [
        "> ### 6. Resolver sistema de EDOs utilizando el metodo \"*Runge-Kutta-45*\" y los parametro obtenidos ($\\gamma$)."
      ],
      "metadata": {
        "id": "QaTa9w67G4_w"
      }
    },
    {
      "cell_type": "markdown",
      "source": [
        "> Para la parte final de la tarea, en base a los datos obtenidos en relacion al $\\gamma$, un error asociado de $10^{-13}$ en terminos de \"*rtol*\" y \"*atol*\" y un intervalo de tiempo $t=[0,21]$ dias, se utilizo el metodo de \"*Runge-Kutta-45*\" en base al solver presente en las librerias importadas (especificamente, \"*Scipy*\"). Por ende, en base a lo desarrollado por los siguiente cuadro de codigos, se tuvo que:\n",
        "> \n",
        "> $\\rightarrow$ Cuadro de constantes definidas (o valores usados):"
      ],
      "metadata": {
        "id": "AxH6bs4qmH6W"
      }
    },
    {
      "cell_type": "code",
      "source": [
        "# Definimos constantes y parametros conocidos\n",
        "# Nombres\n",
        "# P: Fitoplancton\n",
        "# Z: Zooplancton\n",
        "# N: Nutrientes\n",
        "\n",
        "# Condiciones iniciales\n",
        "Pp0 = 0.7                                                                        # -|\n",
        "Zz0 = 0.2                                                                        #  |--->|Se cambio el nombre para evitar \n",
        "Nn0 = 0.1                                                                        #  |    |problemas\n",
        "Xx0 = Pp0, Zz0, Nn0                                                              # -|\n",
        "\n",
        "# Ecuacion dada regresion lineal\n",
        "Zreg = 'z='+str(a)+'•P+'+str(b)  \n",
        "#print(Zreg)                                                                     # Ecuacion regresion lineal en caso   \n",
        "                                                                                 # De ser necesaria     \n",
        "# Constantes\n",
        "gamma = -a\n",
        "ktes = gamma                                                                     # Definir parametro para constantes\n",
        "\n",
        "# Tiempo\n",
        "t2 = (0, 21)                                                                     # Intervalo de realizacion (Dias)\n",
        "\n",
        "# Error asociado (conf2)  \n",
        "rtol3 =10**(-13)                   # atol = rtol = conf2 (error asociado)        # -|--->|Error asociado a la muestra\n",
        "atol3 =10**(-13)                                                                 # -|\n"
      ],
      "metadata": {
        "id": "Ckm_tchUP2ah"
      },
      "execution_count": null,
      "outputs": []
    },
    {
      "cell_type": "markdown",
      "source": [
        "> $\\rightarrow$ Definir el lado derecho de la EDO o, vector lado derecho del sistema de EDOs:"
      ],
      "metadata": {
        "id": "gMp5HC6Zo9Pf"
      }
    },
    {
      "cell_type": "code",
      "source": [
        "# Lado derecho de la EDO\n",
        "# Definimos funcion lado derecho del sistema de EDOs\n",
        "def Zderecho(t, X, ctes):                                                       # A diferencia de la primera tarea, es necesario expresar la variable independiente, en este caso \"t\"       \n",
        "    P, Z, N = X                                                                  # Tula que contiene a las funciones a obtener   \n",
        "    gamma = ktes                                                                 # Definir valores constantes (no tupla)                                                      # Generacion (o llamado) a funcion g(N)\n",
        "    dP = (-1)*P*Z                                                                # -|\n",
        "    dZ = gamma*P*Z                                                               #  |--->|Definimos las soluciones a generar (parecido a forma del sistema es mera coincidencia)  \n",
        "    dN = (1-gamma)*P*Z                                                           # -| \n",
        "    Qzx = np.array([dP, dZ, dN])                                                 # Realizacion lado derecho     \n",
        "    return Qzx\n"
      ],
      "metadata": {
        "id": "j6P0LZPWG524"
      },
      "execution_count": null,
      "outputs": []
    },
    {
      "cell_type": "markdown",
      "source": [
        "> $\\rightarrow$ Obtencion de resultados y bosquejo de estos en torno al tiempo:"
      ],
      "metadata": {
        "id": "TbIgKP4VpJ7l"
      }
    },
    {
      "cell_type": "code",
      "source": [
        "# Obtencion de resultados\n",
        "ZhZp = solve_ivp(Zderecho, t2, Xx0, method= \"RK45\",  args = (ktes,),\n",
        "                 rtol = rtol3, atol=atol3)                                       #  |    |Solucion para el caso sin error asociado, no fue solicitado  \n",
        "Ii, Xx = ZhZp[\"t\"], ZhZp[\"y\"]                                                    #  |--->|pero para entender el funcionamiento y, se decidio dejar postulada\n",
        "Pp, Zz, Nn = Xx[0], Xx[1], Xx[2]   \n",
        "\n",
        "# Realizacion del grafico                                                       \n",
        "plt.figure(figsize=(7,5))                                                        # Tamaño de la figura\n",
        "plt.plot(Ii, Pp, label = \"Poblacion fitoplancton(P(t))\")                         # -|\n",
        "plt.plot(Ii, Zz, label = \"Poblacion zooplancton (Z(t))\")                         #  |--->|Realizacion Grafo\n",
        "plt.plot(Ii, Nn, label = \"Poblacion nutrientes (Z(t))\")                          # -|\n",
        "plt.title(\"Comportamiento de la poblacion del fitoplancton, nutrientes y \"\n",
        "\"zooplancton en funcion del tiempo. \\n Error asociado: $10^{-13}$\")              # Titulo de la figura\n",
        "plt.xlabel(\"Tiempo (t)\")                                                         # -|--->|Rotulo Ejes\n",
        "plt.ylabel(\"Poblacion en funcion del tiempo\")                                    # -|  \n",
        "plt.legend()                                                                     # Genera en pantalla los rotulos (titulos y rotulos) \n",
        "plt.show()                                                                       # Generar grafico \n",
        "print()\n",
        "# Realizacion del grafico de dos curvas (o valores)                                                       \n",
        "plt.figure(figsize=(7,5))                                                        # Tamaño de la figura\n",
        "plt.plot(Ii, Pp, label = \"Poblacion fitoplancton(P(t))\")                         # -|\n",
        "plt.plot(Ii, Zz, label = \"Poblacion zooplancton (Z(t))\")                         #  |--->|Realizacion Grafo metodo\n",
        "plt.plot(Ii, Nn, label = \"Poblacion nutrientes (N(t))\")                          # -|\n",
        "plt.scatter(range(len(P)), P, label = \"Fitoplancton en torno\"                    # -|\n",
        "            \" al tiempo ($P(t)$)\")                                               #  |\n",
        "plt.scatter(range(len(Z)), Z, label = \"Zooplancton en torno\"                     #  |--->|Realizacion Grafo valores originales\n",
        "            \" al tiempo ($Z(t)$)\")                                               #  | \n",
        "plt.scatter(range(len(N)), N ,label = \"Nutrientes en torno\"                      #  | \n",
        "            \" al tiempo ($N(t)$)\")                                               # -|\n",
        "plt.title(\"Comportamiento de la poblacion del fitoplancton, nutrientes y \"       # -|\n",
        "\"zooplancton en funcion del tiempo. \\n Error asociado: $10^{-13}$\")              # -|--->|Titulo de la figura\n",
        "plt.xlabel(\"Tiempo (t)\")                                                         # -|--->|Rotulo Ejes\n",
        "plt.ylabel(\"Poblacion en funcion del tiempo\")                                    # -|  \n",
        "plt.legend()                                                                     # Genera en pantalla los rotulos (titulos y rotulos) \n",
        "plt.show()                                                                       # Generar grafico \n"
      ],
      "metadata": {
        "id": "2CvEJ8u0pQ5C"
      },
      "execution_count": null,
      "outputs": []
    },
    {
      "cell_type": "markdown",
      "source": [
        "> Finalmente, podemos notar una correlacion entre los graficos generados, pues para las mismas variables, suele seguir una tendencia o mejor dicho, \"*forma*\" final similar entre curvas de las variables. \\\n",
        ">\n",
        "> Es importante notar el parecido en forma pero, la diferencia en suavidad. Notando que en el primer caso se considera un \"*ruido*\" en los parametros, ademas de considerarse el caso especifico para cada valor obtenido, se tiene entonces una grafica considerablemente menos suave que el caso obtenido con el metodo, la cual realiza los bosquejos dado parametros calculados que se asemejen a los valores entregados. \n",
        ">\n",
        "> Finalmente, y pese a la suavidad diferida entre curvas, se concluye que existe una correlacion por lo menos en forma del grafico, y por ende, en \"*aporximar*\" los valores mediante el metodo numerico utilizado, ademas de ser necesario nombrar la obtencion del $\\gamma$ en la parte 5 que, permite realizar una aproximacin decente mediante el metodo numerico."
      ],
      "metadata": {
        "id": "IuXFBb5opvWG"
      }
    },
    {
      "cell_type": "markdown",
      "source": [
        "> ## Bibliografia"
      ],
      "metadata": {
        "id": "zT44gi5L3smA"
      }
    },
    {
      "cell_type": "markdown",
      "source": [
        "> Dado a que se pidio realizar una investigacion para la parte 1, se deja a disposicion la bibliografia utilizada (la cual fue aquella recomendada por enunciado y, en este caso, seguida.)\n",
        "> 1.  https://docs.scipy.org/doc/scipy/reference/generated/scipy.integrate.odeint.html 2023, "
      ],
      "metadata": {
        "id": "LXsCxLPa3wWo"
      }
    }
  ]
}