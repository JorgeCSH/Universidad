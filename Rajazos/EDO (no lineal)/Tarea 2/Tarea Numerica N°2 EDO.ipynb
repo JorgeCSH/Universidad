{
 "nbformat": 4,
 "nbformat_minor": 0,
 "metadata": {
  "colab": {
   "provenance": []
  },
  "kernelspec": {
   "name": "python3",
   "language": "python",
   "display_name": "Python 3 (ipykernel)"
  },
  "language_info": {
   "name": "python"
  }
 },
 "cells": [
  {
   "cell_type": "markdown",
   "source": [
    "-------------------\n",
    "# Tarea Numerica Ecuaciones Diferenciales Ordinarias (MA2601)\n",
    "-------------------\n",
    "\n",
    "> Integrantes:\\\n",
    "> $\\rightarrow$ Iann Espinoza;  RUT: 21419586-0 \\\n",
    "> $\\rightarrow$ Jorge Cummins;  RUT: 21353175-1\\\n",
    "> Seccion: 4 \\\n",
    "> Profesor de Catedra: Francisco Ortega C.\\\n",
    "> Fecha de Entrega: 02 de Junio de 2023 \\\n"
   ],
   "metadata": {
    "id": "2BC4-eX2HPgM"
   }
  },
  {
   "cell_type": "markdown",
   "source": [
    "> ## Sobre el Documento"
   ],
   "metadata": {
    "id": "5IjyJDBZHxT-"
   }
  },
  {
   "cell_type": "markdown",
   "source": [
    "\n",
    "> ### Componentes:\n",
    "> El presente documento es el solicitado en formato \"*jupyter Notebook*\" de la tarea numerica solicitada, en la cual se encontraran los cuadros de codigo que realizaran lo solicitad (y algunas anotaciones), cuadros de texto explicativos y algunos ejemplos si la situacion lo amerita. \\\n",
    ">\n",
    "> Los cuadros de texto corresponeran ala informacion sobre el codigo que le prosigue siguiendo un formato de \"*texto arriba, codigo abajo*\", el cual intentara cumplir el objetivo de explicar el funcionamiento del codigo en el presente. Pese a esto tambien existiran anotaciones extras en formato \"# *Anotaciones*\" color \"verde\" en el/los codigos que deberia tener un formato similar al siguiente:\n",
    ">\n",
    " ```\n",
    "1 # Anotacion \n",
    "2 Este es un codigo:              # Anotacion\n",
    "3     sirve para ejemplificar     # Anotacion\n",
    "4     el formato que se dijo      # Anotacion \n",
    "5                                 #\n",
    "6 previamente                     # Anotacion\n",
    "```\n",
    ">\n",
    "> Estos seran parte del codigo pero no tendran funcion ninguna mas que ser anotaciones insertadas por los desarrolladores para uso personal, aunque de ser necesario puede utilizarse como informacion sobre el documento/codigo. \\\n",
    " \\\n",
    "> ### Orden:\n",
    "> El documento esta separado en dos secciones aparte de la inicial: \\\n",
    "$\\cdot)$ \"*parte c)*\": donde se contendra a la parte c) de la tarea. \\\n",
    "$\\cdot)$ \"*parte d)*\": donde se contendra a la parte d) de la tarea. \\\n",
    ">\n",
    "> Es importante informar que de ser necesario, se utilizaran codigos compartidos con el fin de mantener el orden y optimizar el proceso, el cual sera denotado por una anotacion al inicio del cuadro de codigo de forma \"codigo compartido\". Para poder utilizar el codigo donde este siendo reutilizado, sera necesario inicializar el original. Un caso sera la siguiente linea de codigos que permitira el acceso a librerias que podrian ser utilizadas.\n"
   ],
   "metadata": {
    "id": "9l-ZnrpwHzyx"
   }
  },
  {
   "cell_type": "code",
   "execution_count": 50,
   "metadata": {
    "id": "iLn8g6EWGktc",
    "ExecuteTime": {
     "end_time": "2023-05-29T20:32:54.936291300Z",
     "start_time": "2023-05-29T20:32:54.881344600Z"
    }
   },
   "outputs": [],
   "source": [
    "# Codigo compartido\n",
    "# Librerias Importadas\n",
    "import numpy as np\n",
    "import matplotlib.pyplot as plt\n",
    "from scipy.integrate import solve_ivp\n",
    "import pandas as pd\n"
   ]
  },
  {
   "cell_type": "code",
   "source": [
    "# Cuadro creado para, en base a una base de datos, extraer la informacion de este\n",
    "!git clone https://github.com/diegoolguinw/MA2601TN2023.git\n",
    "\n"
   ],
   "metadata": {
    "id": "O2B2zcLtJSid",
    "ExecuteTime": {
     "end_time": "2023-05-29T20:32:54.977614Z",
     "start_time": "2023-05-29T20:32:54.890326100Z"
    }
   },
   "execution_count": 51,
   "outputs": [
    {
     "name": "stderr",
     "output_type": "stream",
     "text": [
      "fatal: destination path 'MA2601TN2023' already exists and is not an empty directory.\n"
     ]
    }
   ]
  },
  {
   "cell_type": "code",
   "source": [
    "# Cuadro creado para acceder a la informacion extraida de la base de datos\n",
    "\n"
   ],
   "metadata": {
    "id": "yzgDLzN2KPSN",
    "ExecuteTime": {
     "end_time": "2023-05-29T20:32:54.995286500Z",
     "start_time": "2023-05-29T20:32:54.976621600Z"
    }
   },
   "execution_count": 52,
   "outputs": [
    {
     "ename": "SyntaxError",
     "evalue": "(unicode error) 'unicodeescape' codec can't decode bytes in position 2-3: truncated \\UXXXXXXXX escape (448728255.py, line 2)",
     "output_type": "error",
     "traceback": [
      "\u001B[1;36m  Cell \u001B[1;32mIn[52], line 2\u001B[1;36m\u001B[0m\n\u001B[1;33m    path = 'C:\\Users\\El-pueblo\\Desktop\\weas-mias-(jorge)\\Universidad\\Rajazos\\Involucran-hackear\\EDO-(no-lineal)\\Tarea-2\\MA2601TN2023\\AtlanticoNorte.csv'\u001B[0m\n\u001B[1;37m                                                                                                                                                        ^\u001B[0m\n\u001B[1;31mSyntaxError\u001B[0m\u001B[1;31m:\u001B[0m (unicode error) 'unicodeescape' codec can't decode bytes in position 2-3: truncated \\UXXXXXXXX escape\n"
     ]
    }
   ]
  },
  {
   "cell_type": "markdown",
   "source": [
    "> ## Parte $c)$ \"Otra forma para $h$\""
   ],
   "metadata": {
    "collapsed": false
   }
  },
  {
   "cell_type": "markdown",
   "source": [
    ">"
   ],
   "metadata": {
    "collapsed": false
   }
  },
  {
   "cell_type": "code",
   "execution_count": null,
   "outputs": [],
   "source": [],
   "metadata": {
    "collapsed": false,
    "ExecuteTime": {
     "start_time": "2023-05-29T20:32:54.984316400Z"
    }
   }
  },
  {
   "cell_type": "markdown",
   "source": [
    "> ## Parte $d)$ \"Inferencia del parametro del modelo simplificado\""
   ],
   "metadata": {
    "collapsed": false
   }
  },
  {
   "cell_type": "markdown",
   "source": [
    ">"
   ],
   "metadata": {
    "collapsed": false
   }
  },
  {
   "cell_type": "code",
   "execution_count": null,
   "outputs": [],
   "source": [],
   "metadata": {
    "collapsed": false,
    "ExecuteTime": {
     "start_time": "2023-05-29T20:32:54.988410100Z"
    }
   }
  }
 ]
}
