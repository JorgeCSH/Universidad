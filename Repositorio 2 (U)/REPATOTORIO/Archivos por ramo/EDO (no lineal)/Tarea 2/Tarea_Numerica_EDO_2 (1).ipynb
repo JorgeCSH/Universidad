{
  "nbformat": 4,
  "nbformat_minor": 0,
  "metadata": {
    "colab": {
      "provenance": [],
      "collapsed_sections": [
        "5IjyJDBZHxT-",
        "c1B_kLd-PwRa",
        "f3P9V08kcZNg",
        "44zY_RPUinY3",
        "JQ6CeUBLuyTE",
        "agpqie3pP2EZ",
        "Mc1DLhUUsjZ9",
        "xPeynAcoQeOh",
        "4ePsfVHpfk5b",
        "CwtV3yfR7lZz",
        "LT30Z3tYi5Lv",
        "QaTa9w67G4_w"
      ]
    },
    "kernelspec": {
      "name": "python3",
      "display_name": "Python 3"
    },
    "language_info": {
      "name": "python"
    }
  },
  "cells": [
    {
      "cell_type": "markdown",
      "source": [
        "-------------------\n",
        "# Tarea Numerica Ecuaciones Diferenciales Ordinarias (MA2601)\n",
        "-------------------\n",
        "\n",
        "> Integrantes:\\\n",
        "> $\\rightarrow$ Iann Espinoza;  RUT: 21419586-0 \\\n",
        "> $\\rightarrow$ Jorge Cummins;  RUT: 21353175-1\\\n",
        "> Seccion: 4 \\\n",
        "> Profesor de Catedra: Francisco Ortega C.\\\n",
        "> Fecha de Entrega: 02 de Junio de 2023 \\\n"
      ],
      "metadata": {
        "id": "2BC4-eX2HPgM"
      }
    },
    {
      "cell_type": "markdown",
      "source": [
        "> ## Sobre el Documento"
      ],
      "metadata": {
        "id": "5IjyJDBZHxT-"
      }
    },
    {
      "cell_type": "markdown",
      "source": [
        "\n",
        "> ### Componentes: \n",
        "El presente documento es el solicitado en formato \"*jupyter Notebook*\" de la tarea numerica solicitada, en la cual se encontraran los cuadros de codigo que realizaran lo solicitad (y algunas anotaciones), cuadros de texto explicativos y algunos ejemplos si la situacion lo amerita. \\\n",
        "\\\n",
        "> Los cuadros de texto corresponeran ala informacion sobre el codigo que le prosigue siguiendo un formato de \"*texto arriba, codigo abajo*\", el cual intentara cumplir el objetivo de explicar el funcionamiento del codigo en el presente. Pese a esto tambien existiran anotaciones extras en formato \"# *Anotaciones*\" color \"verde\" en el/los codigos que deberia tener un formato similar al siguiente:\n",
        " \\\n",
        " ```\n",
        "1 # Anotacion \n",
        "2 Este es un codigo:              # Anotacion\n",
        "3     sirve para ejemplificar     # Anotacion\n",
        "4     el formato que se dijo      # Anotacion \n",
        "5                                 #\n",
        "6 previamente                     # Anotacion\n",
        "```\n",
        "\\\n",
        "> Estos seran parte del codigo pero no tendran funcion ninguna mas que ser anotaciones insertadas por los desarrolladores para uso personal, aunque de ser necesario puede utilizarse como informacion sobre el documento/codigo. \\\n",
        " \\\n",
        "> ### Orden:\n",
        ">El documento esta separado en dos secciones aparte de la inicial: \\\n",
        "$\\cdot)$ \"*parte c)*\": donde se contendra a la parte c) de la tarea. \\\n",
        "$\\cdot)$ \"*parte d)*\": donde se contendra a la parte d) de la tarea. \\\n",
        "\\\n",
        ">Es importante informar que de ser necesario, se utilizaran codigos compartidos con el fin de mantener el orden y optimizar el proceso, el cual sera denotado por una anotacion al inicio del cuadro de codigo de forma \"codigo compartido\". Para poder utilizar el codigo donde este siendo reutilizado, sera necesario inicializar el original. Un caso sera la siguiente linea de codigos que permitira el acceso a librerias que podrian ser utilizadas.\n"
      ],
      "metadata": {
        "id": "9l-ZnrpwHzyx"
      }
    },
    {
      "cell_type": "code",
      "execution_count": 2,
      "metadata": {
        "id": "iLn8g6EWGktc"
      },
      "outputs": [],
      "source": [
        "# Codigo compartido\n",
        "# Librerias Exportadas\n",
        "import numpy as np\n",
        "import matplotlib.pyplot as plt\n",
        "from scipy.integrate import solve_ivp\n",
        "import pandas as pd\n"
      ]
    },
    {
      "cell_type": "markdown",
      "source": [
        "> ## Parte $c)$ \"Otra forma para $h$\""
      ],
      "metadata": {
        "id": "c1B_kLd-PwRa"
      }
    },
    {
      "cell_type": "markdown",
      "source": [
        "> Dado al sistema de Ecuaciones Diferenciales (EDOs) utilizados en la parte $b)$ de la primera tarea numerica (es decir, tarea 1), el cual estaba dado por: \n",
        "> \\begin{align*} \\frac{dP}{dt} &= g(N)P-h(P)Z-MP \\\\ \\frac{dZ}{dt} &= \\gamma h(P)Z-KZ \\\\ \\frac{dN}{dt} &= -g(N)P+(1-\\gamma)h(P)Z+MP+KZ \\end{align*} \\\n",
        "> Con $M$, $K$ y $\\gamma$ valores constantes y, $g(N)$ $h(P)$ funciones definidas como sigue: \n",
        ">\\begin{align*} g(N) &= \\frac{V_{m}N }{k_{s}+N}\\\\ h(P) &= R_{m}P+\\Lambda \\end{align*} \\\n",
        "> Con $V_{m}$, $k_{s}$, $R_{m}$ y $\\Lambda$, valores constantes definidos.\n",
        "> Considerando las constantes y condiciones iniciales de la siguiente manera: \n",
        "> \\begin{align*} &M = 0.1,\\  K = 0.2,\\  \\gamma = 0.3 \\\\ &V_{M} = 5,\\  k_{s} = 1  \\\\ &R_{m} = 3.5,\\  \\Lambda = 0.1 \\\\ &X(t=0) = (P(0),\\ N(0),\\ Z(0)) = (0.3,\\ 0.1,\\ 0.6) \\end{align*} \\\n",
        "> Donde estos valores fueron implementados numericamente (es decir, programando) en el siguiente cuadro de codigo compartido durante la realizacion de esta parte en especifico de la tarea:"
      ],
      "metadata": {
        "id": "EC11CiIVTvLB"
      }
    },
    {
      "cell_type": "code",
      "source": [
        "# Valores, constantes, funciones y/o parametros utilizados \n",
        "# Nombres                                                                         \n",
        "# P: P                                                                            \n",
        "# Z: Z                                                                           \n",
        "# N: N\n",
        "\n",
        "# Condiciones iniciales\n",
        "P0 = 0.3                                                                         # -|      \n",
        "Z0 = 0.1                                                                         #  |--->|Condiciones iniciales EDO\n",
        "N0 = 0.6                                                                         # -|  \n",
        "X0 = P0, Z0, N0                                                                  # Tupla de condiciones iniciales\n",
        "\n",
        "# Constantes\n",
        "M = 0.1                                                                          # -|\n",
        "K = 0.2                                                                          #  |--->|Valores constantes del sistema de EDOs\n",
        "gamma = 0.3                                                                      # -|\n",
        "\n",
        "# ctes funcion g(N)\n",
        "Vm = 5                                                                           # -|\n",
        "k = 1                                                                            #  |--->|Constantes funcion g(N)\n",
        "ctesg = Vm, k                                                                    # -|\n",
        "\n",
        "# ctes h\n",
        "Rm = 3.5                                                                         # -|\n",
        "LAMBDA = 0.1                                                                     #  |--->|Constantes funcion h(p)\n",
        "ctesh = Rm, LAMBDA                                                               # -|                  \n",
        "                            \n",
        "# Tupla ctes                                \n",
        "ctes = M, K, gamma, Vm, k, Rm, LAMBDA                                            # Tupla que contiene a las constantes utilizadas (todas)   \n",
        "\n",
        "# Tiempo                                                      \n",
        "t = (0, 70)                                                                      # Intervalo de t en [0, 70]                                                                   \n",
        "\n",
        "# configuraciones error asociado                                                 # Error asociado a la realizacion en RK45\n",
        "# Conf1                                                                          # Configuracion de error 1 (configuracion 1; conf1) \n",
        "rtol1 = 10**(-3)                                                                 # -|--->|atol = rtol ~~~~> configuracion 1\n",
        "atol1 = 10**(-3)                                                                 # -|\n",
        "# Conf2                                                                          # Configuracion de error 2 (configuracion 2; conf2)\n",
        "rtol2 =10**(-13)                                                                 # -|--->|atol = rtol ~~~~> configuracion 2\n",
        "atol2 =10**(-13)                                                                 # -|  \n"
      ],
      "metadata": {
        "id": "FxCZ_7inRG05"
      },
      "execution_count": 3,
      "outputs": []
    },
    {
      "cell_type": "markdown",
      "source": [
        "> Teniendo en cuenta el enunciado, y con las constantes, funciones y condiciones iniciales ya planteadas, la realizacion a las preguntas propuestas quedarian como sigue:"
      ],
      "metadata": {
        "id": "-D9wGX7BaAgP"
      }
    },
    {
      "cell_type": "markdown",
      "source": [
        "> ### 1. Resolver numericamente el sistema para $t \\in [0, 70]$ utilizando un solver, el metodo \"*Runge-Kutta-45*\" para dos configuraciones de error diferentes (las que llamaremos conf1 y conf2 respectivamente): \n",
        "> ### $\\rightarrow$ conf1: 1atol = 1rtol = $10^{-3}$ \n",
        "> ### $\\rightarrow$ conf2: 1atol = 1rtol = $10^{-13}$"
      ],
      "metadata": {
        "id": "f3P9V08kcZNg"
      }
    },
    {
      "cell_type": "markdown",
      "source": [
        "> Para resolver numericamente el sistema, primero debemos definir las funciones precentes en el sistema \"$g(N)$\" y \"$h(P)$\". Teniendo en cuenta las constantes definidas en el cuadro de codigo inicial (no el encargado de importar librerias), tendriamos que las funciones estarian dadas por: "
      ],
      "metadata": {
        "id": "eEKoKbHzdUDf"
      }
    },
    {
      "cell_type": "code",
      "source": [
        "# Funciones usadas \n",
        "# Funcion g(N)\n",
        "def g(N,Vm,k):\n",
        "    numerador = Vm*N                                                             # Planteamos el numerador de la funcion          \n",
        "    denominador = k + N                                                          # Planteamos el denominador de la funcion\n",
        "    g = numerador/denominador                                                    # En base a lo anterior, generamos el g\n",
        "    return g  \n",
        "\n",
        "# Funcion h(P)\n",
        "def h(P ,Rm, LAMBDA):                                                            \n",
        "    ashe = Rm*P                                                                  # Planteamos el producto entre variables \n",
        "    h = ashe + LAMBDA                                                            # Con el producto, planteamos el valor de \"h\" en base a la suma     \n",
        "    return h\n",
        "    "
      ],
      "metadata": {
        "id": "NrJvzpvqP1xy"
      },
      "execution_count": 4,
      "outputs": []
    },
    {
      "cell_type": "markdown",
      "source": [
        "> Realizadas las funciones, queda definir la solucion al sistema como tal. Si bien su solucion se basara en la utilizacion de librerias externas (destacando \"*Scipy*\" en este proceso), debemos definir el lado derecho de la EDO del sistema. Para la realizacion de este ultimo, nos basaremos en la forma del sistema:"
      ],
      "metadata": {
        "id": "WV3v0-b9eAle"
      }
    },
    {
      "cell_type": "code",
      "source": [
        "# Lado derecho de la EDO\n",
        "# Definimos funcion lado derecho del sistema de EDOs\n",
        "def Fderecho(t, X, ctes):                                                        # A diferencia de la primera tarea, es necesario expresar la variable independiente, en este caso \"t\"       \n",
        "    P, Z, N = X                                                                  # Tula que contiene a las funciones a obtener   \n",
        "    M, K, gamma, Vm, k, Rm, LAMBDA = ctes                                        # Descomposicion de tupla a valores constantes\n",
        "    hashe = h(P, Rm, LAMBDA)                                                     # Generacion (o llamado) a funcion h(P)\n",
        "    ge = g(N, Vm, k)                                                             # Generacion (o llamado) a funcion g(N)\n",
        "    dP = ge*P-hashe*Z - M*P                                                      # -|\n",
        "    dZ = gamma*hashe*Z - K*Z                                                     #  |--->|Definimos las soluciones a generar (parecido a forma del sistema es mera coincidencia)  \n",
        "    dN = (-1)*ge*P + (1-gamma)*hashe*Z + M*P + K*Z                               # -| \n",
        "    Qx = np.array([dP, dZ, dN])                                                  # Realizacion lado derecho     \n",
        "    return Qx\n"
      ],
      "metadata": {
        "id": "VsyBz9ncSKb5"
      },
      "execution_count": 5,
      "outputs": []
    },
    {
      "cell_type": "markdown",
      "source": [
        "> Definido el lado derecho, falta el dar solucion al sistema. Para finalizar este proceso, definimos una variable en base a la funcion \"*solve_ivp*\" proveniente de la libreria Scipy. Esta funcion se encargaria de obtener la solucion en base a un metodo numerico como seria el \"*Runge-Kutta-45*\". Esta funcion, aplicandole (o simplemente ingresandoles los errores \"*conf1*\" y \"*conf2*\") arrojaria los siguientes resultados:\n",
        "\n"
      ],
      "metadata": {
        "id": "njPbVLT5fGS_"
      }
    },
    {
      "cell_type": "code",
      "source": [
        "# Solucion EDO para diferentes casos\n",
        "\n",
        "# Activador de funciones                                                         # -|\n",
        "                                                                                 #  |\n",
        "# Caso sin error                                                                 # -| \n",
        "#solucion1 = 'on'                                                                #  |\n",
        "solucion1 = 'off'                                                                #  | \n",
        "                                                                                 #  |    |Sistema que se genero para activar y desactivar\n",
        "# Caso con error asociado a configuracion 1                                      # -|--->|a gusto la realizacion de las diferentes formas  \n",
        "solucion2 = 'on'                                                                 #  |    |del sistema dependiendo del error asociado\n",
        "#solucion2 = 'off'                                                               #  |\n",
        "                                                                                 #  |--->|Si esta el \"#\", significa que esa opcion esta\n",
        "# Caso con error asociado a configuracion 2                                      # -|    |DESACTIVADA\n",
        "solucion3 = 'on'                                                                 #\n",
        "#solucion3 = 'off'                                                               #\n",
        "\n",
        "# Solucion para error no definido\n",
        "if solucion1 == 'on':                                                            # -|\n",
        "  YhYp = solve_ivp(Fderecho, t, X0, method= \"RK45\",  args = (ctes,))             #  |    |Solucion para el caso sin error asociado, no fue solicitado  \n",
        "  I, X = YhYp[\"t\"], YhYp[\"y\"]                                                    #  |--->|pero para entender el funcionamiento y, se decidio dejar postulada\n",
        "  P, Z, N = X[0], X[1], X[2]                                                     # -|    |pero DESACTIVADA \n",
        "\n",
        "# Solucion para error configuracion 1\n",
        "if solucion2 == 'on':                                                            # -|\n",
        "  YhYp1 = solve_ivp(Fderecho, t, X0, method= \"RK45\",  args = (ctes,),            #  |    |Solucion para el caso con error asociado a conf1.\n",
        "                    rtol = rtol1, atol = atol1)                                  #  |--->|Se encuentra ACTIVADA\n",
        "  I1, X1 = YhYp1[\"t\"], YhYp1[\"y\"]                                                #  |    | \n",
        "  P1, Z1, N1 = X1[0], X1[1], X1[2]                                               # -|\n",
        "\n",
        "# Solucion para error configuracion 2\n",
        "if solucion3 == 'on':                                                            # -|\n",
        "  YhYp2 = solve_ivp(Fderecho, t, X0, method= \"RK45\",  args = (ctes,),            #  |    |Solucion para el caso con error asociado a conf2\n",
        "                    rtol = rtol2, atol = atol2)                                  #  |--->|Se encuentra ACTIVADA\n",
        "  I2, X2 = YhYp2[\"t\"], YhYp2[\"y\"]                                                #  |    |\n",
        "  P2, Z2, N2 = X2[0], X2[1], X2[2]                                               # -|   \n"
      ],
      "metadata": {
        "id": "PYFULqWESXDJ"
      },
      "execution_count": 6,
      "outputs": []
    },
    {
      "cell_type": "markdown",
      "source": [
        "> Finalmente, el bosquejo del grafico estaria dado por las siguientes funciones."
      ],
      "metadata": {
        "id": "8wgDYZCTTXGY"
      }
    },
    {
      "cell_type": "code",
      "source": [
        "# Grafico de soluciones en 2D (para P(t), Z(t), N(t) en un mismo bosquejo)\n",
        "\n",
        "# Activar realizacion de grafico\n",
        "#grafico1 = 'yes'                                                                 # Grafico 2D NO ERROR\n",
        "grafico1 = 'no'\n",
        "\n",
        "grafico2 = 'yes'                                                                 # Grafico 2D ERROR CONFIG 1\n",
        "#grafico2 = 'no'\n",
        "\n",
        "grafico3 = 'yes'                                                                 # Grafico 2D ERROR CONFIG 2\n",
        "#grafico3 = 'no'\n",
        "\n",
        "\n",
        "# Caso sin error asociado\n",
        "if grafico1 == 'yes':                                                            # Caso sin error asociado, se encuentra DESACTIVADO\n",
        "    plt.figure(figsize=(7,5))                                                    # Tamaño de la figura\n",
        "    plt.plot(I, P, label = \"P en funcion al tiempo (P(t))\")                      # -|\n",
        "    plt.plot(I, N, label = \"N en funcion al tiempo (Z(t))\")                      #  |--->|Realizacion Grafo\n",
        "    plt.plot(I, Z, label = \"Z en funcion al tiempo (N(t))\")                      # -|\n",
        "    plt.title(\"Comportamiento de P, N, Z con respecto al tiempo.\"\n",
        "    \" \\n Caso sin error asociado\")                                               # Titulo de la figura\n",
        "    plt.xlabel(\"Tiempo (t)\")                                                     # -|--->|Rotulo Ejes\n",
        "    plt.ylabel(\"Variables: P(t), N(t), Z(t)\")                                    # -|  \n",
        "    plt.legend()                                                                 # Genera en pantalla los rotulos (titulos y rotulos) \n",
        "    plt.show()                                                                   # Genera la figura final \n",
        "print()\n",
        "# Caso con error configuracion 1\n",
        "if grafico2 == 'yes':                                                            # Caso con error = conf1, se encuentra ACTIVADA\n",
        "    plt.figure(figsize=(7,5))                                                    # Tamaño de la figura\n",
        "    plt.plot(I1, P1, label = \"P en funcion al tiempo (P(t))\")                    # -|\n",
        "    plt.plot(I1, N1, label = \"N en funcion al tiempo (Z(t))\")                    #  |--->|Realizacion Grafo\n",
        "    plt.plot(I1, Z1, label = \"Z en funcion al tiempo (N(t))\")                    # -|\n",
        "    plt.title(\"Comportamiento de P, N, Z con respecto al tiempo.\"\n",
        "    \" \\n Caso con error: $10^{-3}$\")                                             # Titulo de la figura\n",
        "    plt.xlabel(\"Tiempo (t)\")                                                     # -|--->|Rotulo Ejes\n",
        "    plt.ylabel(\"Variables: P(t), N(t), Z(t)\")                                    # -|  \n",
        "    plt.legend()                                                                 # Genera en pantalla los rotulos (titulos y rotulos) \n",
        "    plt.show()                                                                   # Genera la figura final \n",
        "print()\n",
        "# Caso con error configuracion 2\n",
        "if grafico3 == 'yes':                                                            # Caso con error = conf2, se encuentra ACTIVADA\n",
        "    plt.figure(figsize=(7,5))                                                    # Tamaño de la figura\n",
        "    plt.plot(I2, P2, label = \"P en funcion al tiempo (P(t))\")                    # -|\n",
        "    plt.plot(I2, N2, label = \"N en funcion al tiempo (N(t))\")                    #  |--->|Realizacion Grafo\n",
        "    plt.plot(I2, Z2, label = \"Z en funcion al tiempo (Z(t))\")                    # -|\n",
        "    plt.title(\"Comportamiento de P, N, Z con respecto al tiempo.\"\n",
        "    \" \\n Caso con error: $10^{-13}$\")                                            # Titulo de la figura\n",
        "    plt.xlabel(\"Tiempo (t)\")                                                     # -|--->|Rotulo Ejes\n",
        "    plt.ylabel(\"Variables: P(t), N(t), Z(t)\")                                    # -|  \n",
        "    plt.legend()                                                                 # Genera en pantalla los rotulos (titulos y rotulos) \n",
        "    plt.show()                                                                   # Genera la figura final \n"
      ],
      "metadata": {
        "id": "7gJVB3_8TXhR"
      },
      "execution_count": null,
      "outputs": []
    },
    {
      "cell_type": "markdown",
      "source": [
        "> ### 2. Bosquejo de $(P, N, Z)$ en trs dimensiones (3D), dado a $P, Z, N$ obtenidos en la parte previa, para cada caso realizado.\n"
      ],
      "metadata": {
        "id": "44zY_RPUinY3"
      }
    },
    {
      "cell_type": "markdown",
      "source": [
        "> Para esta parte, se pide realizar un grafico de los valores de $(P, N, Z)$ realizados. Para esto, se baso en los graficos de plano de fase realizados en la parte $a)$ y $b)$ (no se omitio informacion, todo fue debidamente re-incorporado para esta situacion) para la realizacion de los graficos en tres dimensiones. Finalmente, estos quedarian de la siguiente forma:"
      ],
      "metadata": {
        "id": "286Tu1qlvNd0"
      }
    },
    {
      "cell_type": "code",
      "source": [
        "# Grafico 3D para los puntos de P(t), Z(t), N(t) a la vez (P, N, Z)              # ~~~~> grafico no dependiente del tiempo \"de manera directa\" (cualitativamente hablando)\n",
        "\n",
        "# Activar realizacion de grafico\n",
        "#grafico4 = 'yes'                                                                 # Grafico 3D NO ERROR\n",
        "grafico4 = 'no'\n",
        "\n",
        "grafico5 = 'yes'                                                                 # Grafico 3D ERROR CONFIG 1\n",
        "#grafico5 = 'no'\n",
        "\n",
        "grafico6 = 'yes'                                                                 # Grafico 3D ERROR CONFIG 2\n",
        "#grafico6 = 'no'\n",
        "\n",
        "\n",
        "# Caso sin error asociado\n",
        "if grafico4 == 'yes':                                                            # Caso sin error asociado, se encuentra DESACTIVADO\n",
        "    plt.figure(figsize=(7,5))                                                    # Tamaño de la figura\n",
        "    ax = plt.axes(projection='3d')                                               # Generar grafico en 3D\n",
        "    ax.plot(P, N, Z)                                                             # Valores a graficar   \n",
        "    ax.set_title(' Grafico para (P, N, Z). \\n  Caso sin error asociado ')        # Generar titulo de la grafica     \n",
        "    ax.set_xlabel('P')                                                           # -|\n",
        "    ax.set_ylabel('N')                                                           #  |--->|Rotular ejes\n",
        "    ax.set_zlabel('Z')                                                           # -|  \n",
        "    plt.show()                                                                   # Genera el grafico\n",
        "print()\n",
        "# Caso con error asociado configuracion 1\n",
        "if grafico5 == 'yes':                                                            # Caso con error asociado a conf1, se encuentra ACTIVADA\n",
        "    plt.figure(figsize=(7, 5))                                                    # Tamaño de la figura\n",
        "    ax = plt.axes(projection='3d')                                               # Generar grafico en 3D\n",
        "    ax.plot(P1, N1, Z1)                                                          # Valores a graficar   \n",
        "    ax.set_title(' Grafico para (P, Z, N).'\n",
        "    ' \\n  Caso con error asociado: $10^{-3}$ ')                                  # Generar titulo de la grafica     \n",
        "    ax.set_xlabel('P')                                                           # -|\n",
        "    ax.set_ylabel('N')                                                           #  |--->|Rotular ejes\n",
        "    ax.set_zlabel('Z')                                                           # -|  \n",
        "    plt.show()       \n",
        "print()\n",
        "# Caso con error asociado a configuracion 2\n",
        "if grafico6 == 'yes':                                                            # Caso con error asociado a conf2, se encuentra ACTIVADA\n",
        "    plt.figure(figsize=(7,5))                                                    # Tamaño de la figura\n",
        "    ax = plt.axes(projection='3d')                                               # Generar grafico en 3D\n",
        "    ax.plot(P2, N2, Z2)                                                          # Valores a graficar   \n",
        "    ax.set_title(' Grafico para (P, N, Z).'\n",
        "    ' \\n  Caso con error asociado: $10^{-13}$ ')                                 # Generar titulo de la grafica     \n",
        "    ax.set_xlabel('P')                                                           # -|\n",
        "    ax.set_ylabel('N')                                                           #  |--->|Rotular ejes\n",
        "    ax.set_zlabel('Z')                                                           # -|  \n",
        "    plt.show()     \n"
      ],
      "metadata": {
        "id": "K2yp6wiIintf"
      },
      "execution_count": null,
      "outputs": []
    },
    {
      "cell_type": "markdown",
      "source": [
        "> ### 3."
      ],
      "metadata": {
        "id": "JQ6CeUBLuyTE"
      }
    },
    {
      "cell_type": "code",
      "source": [],
      "metadata": {
        "id": "o-j7znDLvEzs"
      },
      "execution_count": 8,
      "outputs": []
    },
    {
      "cell_type": "markdown",
      "source": [
        "> ## Parte $d)$ \"Inferencia del parametro del modelo simplificado\""
      ],
      "metadata": {
        "id": "agpqie3pP2EZ"
      }
    },
    {
      "cell_type": "markdown",
      "source": [
        "> La parte final de la tarea, es decir, la parte $d)$, tambien conto con la presencia de un sistema de ecuaciones diferenciales (sistema de EDOs). En este caso dado por: \n",
        "> \\begin{align*} \\frac{dP}{dt} &= -PZ \\\\ \\frac{dZ}{dt} &= \\gamma PZ \\\\ \\frac{dN}{dt} &= (1-\\gamma)PZ\\\\  \\end{align*} \\\n",
        ">\n",
        "> Con $P_{0}$, $Z_{0}$, $N_{0}$ las condiciones iniciales. Sin embargo, en esta ocacion la unica constante presente, $\\gamma$ seria desconocida, ademas de que se tendrian una coleccion de datos externa como referencia para el desarrolllo de esta parte. \n",
        "> Por ultimo, se agregaria un contexto al desarrollo, en la cual se intentaria modelar el comportamiento de tres poblaciones en un ecosistema, las cuales se les otorgaria una funcion respectiva: \\\n",
        "> $\\rightarrow$P: Fitoplancton \\\n",
        "> $\\rightarrow$Z: Zooplancton \\\n",
        "> $\\rightarrow$N: Nutrientes en el ambiente \\\n",
        ">  \n",
        "> De estas nuevas variables/funciones presentes, se tendria su comportamiento registrado en un documento .csv, el cual seria utilizado durante la realizacion.\n",
        "> Finalmente, se tedria lo siguiente."
      ],
      "metadata": {
        "id": "ZZC2czTIY8Lt"
      }
    },
    {
      "cell_type": "markdown",
      "source": [
        "> ### 1."
      ],
      "metadata": {
        "id": "Mc1DLhUUsjZ9"
      }
    },
    {
      "cell_type": "markdown",
      "source": [],
      "metadata": {
        "id": "_nDIMfrlsn98"
      }
    },
    {
      "cell_type": "markdown",
      "source": [
        "> ### 2. Obtencion de la base de datos alojados en el repositorio."
      ],
      "metadata": {
        "id": "xPeynAcoQeOh"
      }
    },
    {
      "cell_type": "markdown",
      "source": [
        "> Inicialmente, se deberian extraer (u obtener) los datos mencionados previamente. Para esto se clono el repositorio utilizando las funciones dadas por el programa utilizado \"*google colab*\", el cual quedaria representado en el siguiente cuadro de codigos:"
      ],
      "metadata": {
        "id": "i5TTwr_BcHij"
      }
    },
    {
      "cell_type": "code",
      "source": [
        "# Cuadro creado para, en base a una base de datos, extraer la informacion de este\n",
        "!git clone https://github.com/diegoolguinw/MA2601TN2023.git\n"
      ],
      "metadata": {
        "id": "O2B2zcLtJSid",
        "colab": {
          "base_uri": "https://localhost:8080/"
        },
        "outputId": "6b963aa3-6fa3-49e6-9c5d-072505313ea9"
      },
      "execution_count": 9,
      "outputs": [
        {
          "output_type": "stream",
          "name": "stdout",
          "text": [
            "Cloning into 'MA2601TN2023'...\n",
            "remote: Enumerating objects: 23, done.\u001b[K\n",
            "remote: Counting objects: 100% (23/23), done.\u001b[K\n",
            "remote: Compressing objects: 100% (19/19), done.\u001b[K\n",
            "remote: Total 23 (delta 5), reused 22 (delta 4), pack-reused 0\u001b[K\n",
            "Unpacking objects: 100% (23/23), 5.95 KiB | 276.00 KiB/s, done.\n"
          ]
        }
      ]
    },
    {
      "cell_type": "markdown",
      "source": [
        "> Este ultimo solo permite acceder (o clonar) el documento para su utilizacion, por lo cual, si queriamos obtener o representar (entiendase como mostrar) los datos, realizamos las siguientes operaciones en el cuadro de codigos, los cuales permiten ubicar, leer el documento (el sistema) y finalmente mostrar los resultados:"
      ],
      "metadata": {
        "id": "m5iRMetmQNZh"
      }
    },
    {
      "cell_type": "code",
      "source": [
        "# Obtener datos para utilizacion\n",
        "path = \"/content/MA2601TN2023/AtlanticoNorte.csv\"                                # Localizar el archivo \n",
        "data = pd.read_csv(path)                                                         # Leer datos\n",
        "\n",
        "# Mostrar datos del archivo importado\n",
        "data.head                                                                        # Printear o mostrar los datos\n"
      ],
      "metadata": {
        "id": "yzgDLzN2KPSN",
        "colab": {
          "base_uri": "https://localhost:8080/"
        },
        "outputId": "c4eef36c-689f-44b8-da64-daf346f859f3"
      },
      "execution_count": 24,
      "outputs": [
        {
          "output_type": "execute_result",
          "data": {
            "text/plain": [
              "<bound method NDFrame.head of            P         Z         N\n",
              "0   0.713189  0.206493  0.144881\n",
              "1   0.561768  0.258218  0.209565\n",
              "2   0.430482  0.313622  0.306605\n",
              "3   0.337355  0.390361  0.351789\n",
              "4   0.220753  0.424513  0.398433\n",
              "5   0.159331  0.472325  0.459729\n",
              "6   0.089962  0.478597  0.516824\n",
              "7   0.102407  0.478754  0.527600\n",
              "8   0.056574  0.496342  0.519272\n",
              "9   0.071715  0.479255  0.538065\n",
              "10  0.049615  0.496271  0.546204\n",
              "11  0.033343  0.519057  0.515466\n",
              "12  0.036342  0.499872  0.561581\n",
              "13  0.052080  0.495959  0.522483\n",
              "14  0.045063  0.509437  0.556798\n",
              "15  0.047632  0.496867  0.530847\n",
              "16  0.034533  0.522284  0.525545\n",
              "17  0.012012  0.506310  0.562888\n",
              "18  0.024868  0.513602  0.528240\n",
              "19  0.027101  0.488261  0.526116\n",
              "20  0.013951  0.519934  0.567833>"
            ]
          },
          "metadata": {},
          "execution_count": 24
        }
      ]
    },
    {
      "cell_type": "markdown",
      "source": [
        "> ### 3. Grafico de Zooplancton (Z) en funcion del Fitoplancton (P)."
      ],
      "metadata": {
        "id": "4ePsfVHpfk5b"
      }
    },
    {
      "cell_type": "markdown",
      "source": [
        "> Para comprobar la realizacion anterior y el desarrollo en la parte 1, se bosquejo la poblacion de zooplancton en funcion de aquella del Fitoplancton (P). En esta puede verse como la cantidad de este (Zooplancton, Z) disimuye conforme aumenta aquella del Fitoplancton (P), es decir, la tasa de descenso es mayor dado a que se tiene una funcion decreciente al tenerse una derivada negativa o menor que cero, pues se encuentra dada por: \n",
        "> \\begin{align*} \\frac{dZ}{dt} &= \\gamma PZ \\\\ \\frac{dZ}{dP} &= -\\gamma & \\text{(por parte 1.)}\\end{align*} \\\n",
        ">\n",
        "> Por ende, se tiene que tanto los resultados como el bosquejo de resultado concordarian entre si.\n",
        "> El analisis se hizo en base al grafico resultado del siguiente cuadro de codigo:"
      ],
      "metadata": {
        "id": "wgPROrCMfytv"
      }
    },
    {
      "cell_type": "code",
      "source": [
        "# Grafico de Z en funcion de P \n",
        "plt.figure(figsize=(7,5))                                                        # Tamaño de la imagen  \n",
        "plt.scatter(P, Z, label = \"Zooplancton (Z)\")                                     #  |--->|Realizacion el Grafo\n",
        "plt.title(\"Poblacion de Zooplancton (Z), en funcion \\n del Fitoplancton\"         # -|--->|Titulo       \n",
        "          \" (P) ($Z(P)$)\")                                                       # -|      \n",
        "plt.xlabel(\"Fitoplancton (P)\")                                                   # -|--->|Rotulo de los Ejes\n",
        "plt.ylabel(\"Poblacion Zooplancton (Z)\")                                          # -| \n",
        "plt.legend()                                                                     # Generar titulo \n",
        "plt.show()                                                                       # Generar crafico \n"
      ],
      "metadata": {
        "id": "SBgZjchh7iVS",
        "colab": {
          "base_uri": "https://localhost:8080/",
          "height": 510
        },
        "outputId": "5ddc5b8e-c0a8-47d4-b8d7-90e83b03c45f"
      },
      "execution_count": 29,
      "outputs": [
        {
          "output_type": "display_data",
          "data": {
            "text/plain": [
              "<Figure size 700x500 with 1 Axes>"
            ],
            "image/png": "[encoded data removed]"
          },
          "metadata": {}
        }
      ]
    },
    {
      "cell_type": "markdown",
      "source": [
        "> ### 4. Grafico de poblaciones de Fitoplancton (P), Zooplancton (Z) y Nutrientes (N) en funcion del tiempo."
      ],
      "metadata": {
        "id": "CwtV3yfR7lZz"
      }
    },
    {
      "cell_type": "markdown",
      "source": [
        "> Con la informacion corroborada ya en la parte 3, se realizo un bosquejo en formato \"*scatter*\" de las poblaciones respectivas de Fitoplancton (P), Zooplancton (Z) y Nutrientes en el ambiente (N) (entiendase por poblacion en este caso a cantidad). Ademas, con el fin de tener un idea inicial del comportamiento, se agregaron unas graficas contiunas (extras) al grafico que sigue el formate \"*scatter*\" mencionado. Finalmente, la realizacion estaria dada por el siguiente cuadro de codigo"
      ],
      "metadata": {
        "id": "eF020O7OP3Nq"
      }
    },
    {
      "cell_type": "code",
      "source": [
        "# Grafico de valores extraidos\n",
        "P, Z, N = data[\"P\"], data[\"Z\"], data[\"N\"]                                        # Obtencion de valores para cada caso\n",
        "\n",
        "# Grafico de P, Z, N en funcion al tiempo\n",
        "plt.figure(figsize=(7,5))                                                        # Tamaño de la imagen     \n",
        "plt.scatter(range(len(P)), P, label = \"Fitoplancton en torno\"                    # -|\n",
        "            \" al tiempo ($P(t)$)\")                                               #  |  \n",
        "plt.plot(range(len(P)), P)                                                       #  |\n",
        "plt.scatter(range(len(Z)), Z, label = \"Zooplancton en torno\"                     #  |\n",
        "            \" al tiempo ($Z(t)$)\")                                               #  |--->|Realizacion el Grafo\n",
        "plt.plot(range(len(Z)), Z)                                                       #  |\n",
        "plt.scatter(range(len(N)), N ,label = \"Nutrientes en torno\"                      #  | \n",
        "            \" al tiempo ($N(t)$)\")                                               #  |\n",
        "plt.plot(range(len(N)), N)                                                       # -|  \n",
        "plt.title(\"Poblacion del fitoplancton, zooplancton y\"                            # -|--->|Titulo de la grafica \n",
        "           \"nutrientes en el ambiente \\n ($P(t)$ $Z(t)$ $N(t)$)\")                # -|       \n",
        "plt.xlabel(\"Tiempo\")                                                             # -|--->|Rotulo de los Ejes\n",
        "plt.ylabel(\"Poblacion muestra (para P, Z, N)\")                                   # -| \n",
        "plt.legend()                                                                     # Generar titulo \n",
        "plt.show()                                                                       # Generar grafico \n"
      ],
      "metadata": {
        "id": "0wPjuojjfXYL"
      },
      "execution_count": null,
      "outputs": []
    },
    {
      "cell_type": "markdown",
      "source": [
        "> ### 5. Regresion lineal y obtencion del $\\gamma$."
      ],
      "metadata": {
        "id": "LT30Z3tYi5Lv"
      }
    },
    {
      "cell_type": "markdown",
      "source": [
        "> Se tiene por enunciado que, de la informacion necesaria para realizar un analisis (es decir, los datos), la constante $\\gamma$ no se encontraria con un valor conocido. Sin embargo, si un comportamiento de las poblaciones, lo cual dado al desarrollo de las partes 1 y 3, conoceriamos el comportamiento del $\\gamma$, ademas de corroboral la concordancia de bosquejo y datos. \\\n",
        ">\n",
        "> Con esto claro, para dar un valor respectivo al parametro $\\gamma$, se realizo una aproximacion de este ultimo valor. Notando que la tasa de cambio de la poblacion del Zooplancton(Z) en funcion del Fitoplancton (P) estaria dado justamente por este valor, se decidio realizar una regresion lineal para obtener esta tasa y, por consiguiente, el valor del $\\gamma$. \\\n",
        ">\n",
        "> Para realizar esta regresion lineal, se tiene el siguiente cuadro de codigo en donde se uso la funcion de \"*numpy*\" \"*polyfit*\" o aproximacion de un polinomio de grado 1. Este quedaria de la forma:"
      ],
      "metadata": {
        "id": "a7y2j-tf8KA6"
      }
    },
    {
      "cell_type": "code",
      "source": [
        "# Regresion lineal\n",
        "coeficientes = np.polyfit(P, Z, 1)                                               # Polyfit para realizar regresion\n",
        "a = coeficientes[0] # Seria este el valor del gamma                              # Pendiente de la ecuacion \n",
        "b = coeficientes[1]                                                              # Traslacion de la ecuacion\n",
        "\n",
        "# Resultados\n",
        "Ecuacion = 'y='+str(a)+'x+'+str(b)                                               # Print o version \"str()\" de los resultados\n",
        "#print(\"El coeficiente \"'a'\" o pendiente de la regresion estaria dado por :\", a) # -|    |DESACTIVADO PARA MANTENER ORDEN \n",
        "#print(\"La traslacion o coeficiente \"'b'\" estaria dado por:\", b)                 #  |--->|Print de resultados \n",
        "#print('Finalmente, la ecuacion seria y=ax+b => '+Ecuacion)                      # -|    |(mostrar resultados de regresion)\n"
      ],
      "metadata": {
        "id": "6Vl-v0Swk8gG"
      },
      "execution_count": 32,
      "outputs": []
    },
    {
      "cell_type": "markdown",
      "source": [
        "> Finalmente, conocido los valores, se realizo un bosquejo de ambos resultados, tanto de aquellos importados, como la recta de regresion lineal o, linea de tendencia ($\\gamma$ seria la pendiente de la regresion en la figura). Esto mediante el siguiente cuadro de codigos que realizan la regresion y bosqueja:"
      ],
      "metadata": {
        "id": "5ZzCAo_ek8p-"
      }
    },
    {
      "cell_type": "code",
      "source": [
        "# Funcion o recta de regresion\n",
        "def Regresion(a,b,x):                                                            # -|--->|Funcion formal en Python para definir \n",
        "  y = x*a+b                                                                      #  |    |la realizacion de la regresion para \n",
        "  return y                                                                       # -|    |el conjunto de datos\n",
        "\n",
        "# Grafico de Z en funcion de P \n",
        "plt.figure(figsize=(7,5))                                                        # Tamaño de la imagen  \n",
        "plt.scatter(P, Z, label = \"Zooplancton (Z)\", c = 'blue')                         # -|~~~~> Grafico valores\n",
        "plt.plot(P, Regresion(a, b, P),                                                  #  |~~~~> Grafico regresion \n",
        "         label = 'Ecuacion regresion lineal ($x\\in \\{P\\}$):'                     #  |\n",
        "         ' \\n'+Ecuacion, c = 'red')                                              #  |\n",
        "plt.title(\"Poblacion de Zooplancton (Z), en funcion \\n del Fitoplancton\"         # -|--->|Titulo       \n",
        "          \" (P) ($Z(P)$)\")                                                       # -|      \n",
        "plt.xlabel(\"Fitoplancton (P)\")                                                   # -|--->|Rotulo de los Ejes\n",
        "plt.ylabel(\"Poblacion Zooplancton (Z)\")                                          # -| \n",
        "plt.legend()                                                                     # Generar titulo \n",
        "plt.show()                                                                       # Generar grafico \n"
      ],
      "metadata": {
        "id": "IXl6siQh8Jx6"
      },
      "execution_count": null,
      "outputs": []
    },
    {
      "cell_type": "markdown",
      "source": [
        "> ### 6. Resolver sistema de EDOs utilizando el metodo \"*Runge-Kutta-45*\" y los parametro obtenidos ($\\gamma$)."
      ],
      "metadata": {
        "id": "QaTa9w67G4_w"
      }
    },
    {
      "cell_type": "markdown",
      "source": [
        "> Para la parte final de la tarea, en base a los datos obtenidos en relacion al $\\gamma$, un error asociado de $10^{-13}$ en terminos de \"*rtol*\" y \"*atol*\" y un intervalo de tiempo $t=[0,21]$ dias, se utilizo el metodo de \"*Runge-Kutta-45*\" en base al solver presente en las librerias importadas (especificamente, \"*Scipy*\"). Por ende, en base a lo desarrollado por los siguiente cuadro de codigos, se tuvo que:\n",
        "> \n",
        "> $\\rightarrow$ Cuadro de constantes definidas (o valores usados):"
      ],
      "metadata": {
        "id": "AxH6bs4qmH6W"
      }
    },
    {
      "cell_type": "code",
      "source": [
        "# Definimos constantes y parametros conocidos\n",
        "# Nombres\n",
        "# P: Fitoplancton\n",
        "# Z: Zooplancton\n",
        "# N: Nutrientes\n",
        "\n",
        "# Condiciones iniciales\n",
        "Pp0 = 0.7                                                                        # -|\n",
        "Zz0 = 0.2                                                                        #  |--->|Se cambio el nombre para evitar \n",
        "Nn0 = 0.1                                                                        #  |    |problemas\n",
        "Xx0 = Pp0, Zz0, Nn0                                                              # -|\n",
        "\n",
        "# Ecuacion dada regresion lineal\n",
        "Zreg = 'z='+str(a)+'•P+'+str(b)  \n",
        "#print(Zreg)                                                                     # Ecuacion regresion lineal en caso   \n",
        "                                                                                 # ser necesaria     \n",
        "# Constantes\n",
        "ktes = gamma                                                                     # Definir parametro para constantes\n",
        "\n",
        "# Tiempo\n",
        "t = (0, 21)                                                                      # Intervalo de realizacion (Dias)\n",
        "\n",
        "# Error asociado (conf2)  \n",
        "rtol3 =10**(-13)                   # atol = rtol = conf2 (error asociado)        # -|--->|Error asociado a la muestra\n",
        "atol3 =10**(-13)                                                                 # -|\n"
      ],
      "metadata": {
        "id": "Ckm_tchUP2ah",
        "colab": {
          "base_uri": "https://localhost:8080/"
        },
        "outputId": "114c57a8-6a28-42eb-9ccf-75f4d1b297d7"
      },
      "execution_count": 15,
      "outputs": [
        {
          "output_type": "stream",
          "name": "stdout",
          "text": [
            "z=-0.4497941388232871•P+0.5223679038997382\n"
          ]
        }
      ]
    },
    {
      "cell_type": "markdown",
      "source": [
        "> $\\rightarrow$ Definir el lado derecho de la EDO o, vector lado derecho del sistema de EDOs:"
      ],
      "metadata": {
        "id": "gMp5HC6Zo9Pf"
      }
    },
    {
      "cell_type": "code",
      "source": [
        "# Lado derecho de la EDO\n",
        "# Definimos funcion lado derecho del sistema de EDOs\n",
        "def Zderecho(t, X, ctes):                                                        # A diferencia de la primera tarea, es necesario expresar la variable independiente, en este caso \"t\"       \n",
        "    P, Z, N = X                                                                  # Tula que contiene a las funciones a obtener   \n",
        "    gamma = ktes                                                                 # Definir valores constantes (no tupla)                                                      # Generacion (o llamado) a funcion g(N)\n",
        "    dP = (-1)*P*Z                                                                # -|\n",
        "    dZ = gamma*P*Z                                                               #  |--->|Definimos las soluciones a generar (parecido a forma del sistema es mera coincidencia)  \n",
        "    dN = (1-gamma)*P*Z                                                           # -| \n",
        "    Qzx = np.array([dP, dZ, dN])                                                 # Realizacion lado derecho     \n",
        "    return Qzx\n"
      ],
      "metadata": {
        "id": "j6P0LZPWG524"
      },
      "execution_count": 16,
      "outputs": []
    },
    {
      "cell_type": "markdown",
      "source": [
        "> $\\rightarrow$ Obtencion de resultados y bosquejo de estos en torno al tiempo:"
      ],
      "metadata": {
        "id": "TbIgKP4VpJ7l"
      }
    },
    {
      "cell_type": "code",
      "source": [
        "# Obtencion de resultados\n",
        "ZhZp = solve_ivp(Zderecho, t, Xx0, method= \"RK45\",  args = (ktes,),\n",
        "                 rtol = rtol3, atol=atol3)                                       #  |    |Solucion para el caso sin error asociado, no fue solicitado  \n",
        "Ii, Xx = ZhZp[\"t\"], ZhZp[\"y\"]                                                    #  |--->|pero para entender el funcionamiento y, se decidio dejar postulada\n",
        "Pp, Zz, Nn = Xx[0], Xx[1], Xx[2]   \n",
        "\n",
        "# Realizacion del grafico                                                       \n",
        "plt.figure(figsize=(7,5))                                                        # Tamaño de la figura\n",
        "plt.plot(Ii, Pp, label = \"Poblacion fitoplancton(P(t))\")                         # -|\n",
        "plt.plot(Ii, Zz, label = \"Poblacion zooplancton (Z(t))\")                          #  |--->|Realizacion Grafo\n",
        "plt.plot(Ii, Nn, label = \"Poblacion nutrientes (Z(t))\")                         # -|\n",
        "plt.title(\"Comportamiento de la poblacion del fitoplancton, nutrientes y \"\n",
        "\"zooplancton en funcion del tiempo. \\n Error asociado: $10^{-13}$\")              # Titulo de la figura\n",
        "plt.xlabel(\"Tiempo (t)\")                                                         # -|--->|Rotulo Ejes\n",
        "plt.ylabel(\"Poblacion en funcion del tiempo\")                                    # -|  \n",
        "plt.legend()                                                                     # Genera en pantalla los rotulos (titulos y rotulos) \n",
        "plt.show()                                                                       # Generar grafico \n",
        "\n",
        "# Realizacion del grafico de dos curvas (o valores)                                                       \n",
        "plt.figure(figsize=(7,5))                                                        # Tamaño de la figura\n",
        "plt.plot(Ii, Pp, label = \"Poblacion fitoplancton(P(t))\")                         # -|\n",
        "plt.plot(Ii, Zz, label = \"Poblacion zooplancton (Z(t))\")                         #  |--->|Realizacion Grafo metodo\n",
        "plt.plot(Ii, Nn, label = \"Poblacion nutrientes (N(t))\")                          # -|\n",
        "plt.scatter(range(len(P)), P, label = \"Fitoplancton en torno\"                    # -|\n",
        "            \" al tiempo ($P(t)$)\")                                               #  |\n",
        "plt.scatter(range(len(Z)), Z, label = \"Zooplancton en torno\"                     #  |--->|Realizacion Grafo valores originales\n",
        "            \" al tiempo ($Z(t)$)\")                                               #  | \n",
        "plt.scatter(range(len(N)), N ,label = \"Nutrientes en torno\"                      #  | \n",
        "            \" al tiempo ($N(t)$)\")                                               # -|\n",
        "plt.title(\"Comportamiento de la poblacion del fitoplancton, nutrientes y \"       # -|\n",
        "\"zooplancton en funcion del tiempo. \\n Error asociado: $10^{-13}$\")              # -|--->|Titulo de la figura\n",
        "plt.xlabel(\"Tiempo (t)\")                                                         # -|--->|Rotulo Ejes\n",
        "plt.ylabel(\"Poblacion en funcion del tiempo\")                                    # -|  \n",
        "plt.legend()                                                                     # Genera en pantalla los rotulos (titulos y rotulos) \n",
        "plt.show()                                                                       # Generar grafico \n",
        "\n",
        "\n",
        "\n"
      ],
      "metadata": {
        "id": "2CvEJ8u0pQ5C"
      },
      "execution_count": null,
      "outputs": []
    },
    {
      "cell_type": "markdown",
      "source": [
        "> Finalmente, podemos notar una correlacion entre los graficos generados, pues para las mismas variables, suele seguir una tendencia o mejor dicho, \"*forma*\" final similar entre curvas de las variables. \\\n",
        ">\n",
        "> Es importante notar el parecido en forma pero, la diferencia en suavidad. Notando que en el primer caso se considera un \"*ruido*\" en los parametros, ademas de considerarse el caso especifico para cada valor obtenido, se tiene entonces una grafica considerablemente menos suave que el caso obtenido con el metodo, la cual realiza los bosquejos dado parametros calculados que se asemejen a los valores entregados. \n",
        ">\n",
        "> Finalmente, y pese a la suavidad diferida entre curvas, se concluye que existe una correlacion por lo menos en forma del grafico, y por ende, en \"*aporximar*\" los valores mediante el metodo numerico utilizado, ademas de ser necesario nombrar la obtencion del $\\gamma$ en la parte 5 que, permite realizar una aproximacin decente mediante el metodo numerico."
      ],
      "metadata": {
        "id": "IuXFBb5opvWG"
      }
    }
  ]
}