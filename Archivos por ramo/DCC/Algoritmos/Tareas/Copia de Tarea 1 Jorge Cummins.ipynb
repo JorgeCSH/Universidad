{
 "nbformat": 4,
 "nbformat_minor": 0,
 "metadata": {
  "kernelspec": {
   "display_name": "Python 3",
   "language": "python",
   "name": "python3"
  },
  "language_info": {
   "codemirror_mode": {
    "name": "ipython",
    "version": 3
   },
   "file_extension": ".py",
   "mimetype": "text/x-python",
   "name": "python",
   "nbconvert_exporter": "python",
   "pygments_lexer": "ipython3",
   "version": "3.7.1"
  },
  "colab": {
   "provenance": [
    {
     "file_id": "1g0UPaGoKX_7iseqGv-zHNOpEHLie1EIK",
     "timestamp": 1723330611329
    },
    {
     "file_id": "1LyGFZe8B1WTZpqnhm6Zv34O6igFfgq-5",
     "timestamp": 1723242737402
    },
    {
     "file_id": "1JX4AL9fKzSKZiN53HUAdpaPTaLgX5gDW",
     "timestamp": 1721680387325
    },
    {
     "file_id": "https://github.com/ppoblete/CC3001-2020-2-Tareas/blob/master/CC3001%202020-2%20Tarea%201.ipynb",
     "timestamp": 1598654471501
    }
   ]
  }
 },
 "cells": [
  {
   "cell_type": "markdown",
   "metadata": {
    "id": "_Q2SFIAPOylT"
   },
   "source": [
    "# CC3001 Primavera 2024 Tarea 1\n",
    "\n",
    "## Marcador de penales de fútbol\n",
    "\n",
    "### Profesores\n",
    "Sección 1 Patricio Poblete / Nelson Baloian •\n",
    "Sección 2 Nelson Baloian / Alejandro Quijada\n"
   ]
  },
  {
   "cell_type": "markdown",
   "metadata": {
    "id": "IAaBIWKlOylU"
   },
   "source": [
    "El objetivo de esta tarea es implementar un sistema de marcador de goles que permita a un canal televisivo mostrar a los espectadores durante una transmisión el ganador en una definición a penales.\n",
    "\n",
    "Una tanda de penales de juega con las siguientes reglas:\n",
    "\n",
    "\n",
    "1.   Los tiros son intercalados entre ambos equipos.\n",
    "2.   Los equipos tienen inicialmente 5 tiros.\n",
    "3.   Si un equipo supera en el marcador al otro después de estos cinco tiros, el juego finaliza.\n",
    "3. Si, antes de completar los cinco tiros, un equipo obtiene una ventaja insuperable (es decir, el otro equipo ya no puede igualar o superar el marcador), el juego finaliza inmediatamente.\n",
    "4. Si hay un empate después de los cinco tiros iniciales, se procede a la muerte súbita. En la muerte súbita, ambos equipos realizan un tiro adicional cada uno. Si un equipo anota y el otro falla, el equipo que anotó es declarado ganador y el juego finaliza.\n",
    "\n",
    "El marcador comienza en \"0-0\", y con cada penal acertado, se suma un punto al equipo correspondiente.\n",
    "\n",
    "Tu tarea es implementar este sistema en Python, donde el usuario debe ingresar inicialmente los nombres de los dos equipos que juegan, y luego, después de cada tiro, ingresar la palabra \"gol\" si el tiro fue exitoso, o nada si no lo fue. El programa debe determinar el ganador siguiendo las reglas descritas. Asegúrate de manejar adecuadamente las situaciones de finalización anticipada y muerte súbita. Para términos de simplificación, se supone que el equipo que se ingresa primero patea su tiro primero.\n",
    "\n",
    "El siguiente programa implementa una versión simplificada de esto, donde se muestra el comportamiento de un lanzamiento de penal:"
   ]
  },
  {
   "cell_type": "code",
   "metadata": {
    "id": "qkl1Tc3YOylV"
   },
   "source": [
    "def lanzamiento_penal(equipo):\n",
    "    puntaje_equipo = 0\n",
    "    resultado_tiro = input(f\"¿Ingrese resultado de el tiro del jugador del equipo {equipo}?: \")\n",
    "\n",
    "    if resultado_tiro == 'gol':\n",
    "      puntaje_equipo += 1\n",
    "\n",
    "    print(f\"El puntaje del {equipo} es: {puntaje_equipo}\")"
   ],
   "execution_count": null,
   "outputs": []
  },
  {
   "cell_type": "code",
   "metadata": {
    "id": "-ehVwCp4OylY",
    "outputId": "4ffd66c8-9d62-47df-fe32-ef73daa79bbf",
    "colab": {
     "base_uri": "https://localhost:8080/"
    },
    "executionInfo": {
     "status": "ok",
     "timestamp": 1723332513270,
     "user_tz": 240,
     "elapsed": 7117,
     "user": {
      "displayName": "Jorge Andrés Cummins",
      "userId": "07750277336973496271"
     }
    }
   },
   "source": [
    "lanzamiento_penal(\"Chile\")"
   ],
   "execution_count": null,
   "outputs": [
    {
     "output_type": "stream",
     "name": "stdout",
     "text": [
      "¿Ingrese resultado de el tiro del jugador del equipo Chile?: gol\n",
      "El puntaje del Chile es: 1\n"
     ]
    }
   ]
  },
  {
   "cell_type": "markdown",
   "metadata": {
    "id": "uUdBcdbGOylf"
   },
   "source": [
    "Tomando como base este código, escriba a continuación un programa que implemente lo que se pide, y pruébelo con los siguientes ejemplos reales:\n",
    "\n",
    "Final de la Copa América 2015\n",
    "```\n",
    "Chile comienza primero\n",
    "¿Ingrese resultado de el tiro 1 del jugador del equipo Chile?: gol\n",
    "¿Ingrese resultado de el tiro 1 del jugador del equipo Argentina?: gol\n",
    "¿Ingrese resultado de el tiro 2 del jugador del equipo Chile?: gol\n",
    "¿Ingrese resultado de el tiro 2 del jugador del equipo Argentina?:\n",
    "¿Ingrese resultado de el tiro 3 del jugador del equipo Chile?: gol\n",
    "¿Ingrese resultado de el tiro 3 del jugador del equipo Argentina?:\n",
    "¿Ingrese resultado de el tiro 4 del jugador del equipo Chile?: gol\n",
    "El ganador se decide antes de completar los 5 tiros debido a una ventaja insuperable.\n",
    "Resultado final:\n",
    "Chile: 4\n",
    "Argentina: 1\n",
    "El ganador es: Chile\n",
    "\n",
    "```\n",
    "\n",
    "\n",
    "Final de la Copa Mundial de Fútbol de 2006\n",
    "```\n",
    "Italia comienza primero\n",
    "¿Ingrese resultado de el tiro 1 del jugador del equipo Italia?: gol\n",
    "¿Ingrese resultado de el tiro 1 del jugador del equipo Francia?: gol\n",
    "¿Ingrese resultado de el tiro 2 del jugador del equipo Italia?: gol\n",
    "¿Ingrese resultado de el tiro 2 del jugador del equipo Francia?:\n",
    "¿Ingrese resultado de el tiro 3 del jugador del equipo Italia?: gol\n",
    "¿Ingrese resultado de el tiro 3 del jugador del equipo Francia?: gol\n",
    "¿Ingrese resultado de el tiro 4 del jugador del equipo Italia?: gol\n",
    "¿Ingrese resultado de el tiro 4 del jugador del equipo Francia?: gol\n",
    "¿Ingrese resultado de el tiro 5 del jugador del equipo Italia?: gol\n",
    "El ganador se decide antes de completar los 5 tiros debido a una ventaja insuperable.\n",
    "Resultado final:\n",
    "Italia: 5\n",
    "Francia: 3\n",
    "El ganador es: Italia\n",
    "\n",
    "```\n",
    "\n",
    "Final de la Liga de Campeones de la UEFA 2000-01\n",
    "```\n",
    "Bayern Munich comienza primero\n",
    "¿Ingrese resultado de el tiro 1 del jugador del equipo Bayern Munich?:\n",
    "¿Ingrese resultado de el tiro 1 del jugador del equipo Valencia?: gol\n",
    "¿Ingrese resultado de el tiro 2 del jugador del equipo Bayern Munich?: gol\n",
    "¿Ingrese resultado de el tiro 2 del jugador del equipo Valencia?: gol\n",
    "¿Ingrese resultado de el tiro 3 del jugador del equipo Bayern Munich?: gol\n",
    "¿Ingrese resultado de el tiro 3 del jugador del equipo Valencia?:\n",
    "¿Ingrese resultado de el tiro 4 del jugador del equipo Bayern Munich?:\n",
    "¿Ingrese resultado de el tiro 4 del jugador del equipo Valencia?:\n",
    "¿Ingrese resultado de el tiro 5 del jugador del equipo Bayern Munich?: gol\n",
    "¿Ingrese resultado de el tiro 5 del jugador del equipo Valencia?: gol\n",
    "\n",
    "Resultado después de 5 tiros:\n",
    "Bayern Munich: 3\n",
    "Valencia: 3\n",
    "Empate! Vamos a muerte súbita\n",
    "\n",
    "¿Ingrese resultado de el tiro 6 del jugador del equipo Bayern Munich?: gol\n",
    "¿Ingrese resultado de el tiro 6 del jugador del equipo Valencia?: gol\n",
    "¿Ingrese resultado de el tiro 7 del jugador del equipo Bayern Munich?: gol\n",
    "¿Ingrese resultado de el tiro 7 del jugador del equipo Valencia?:\n",
    "Resultado final:\n",
    "Bayern Munich: 5\n",
    "Valencia: 4\n",
    "El ganador es: Bayern Munich\n",
    "\n",
    "```"
   ]
  },
  {
   "cell_type": "markdown",
   "metadata": {
    "id": "jzrNv3ZkOylh"
   },
   "source": [
    "## ¿Qué hay que entregar?\n",
    "\n",
    "Usted debe entregar este mismo archivo, modificado de acuerdo a lo que se pide. Haga todos los cambios necesarios para explicar y documentar adecuadamente su código. No olvide poner su nombre."
   ]
  },
  {
   "cell_type": "markdown",
   "source": [
    "-------------------\n",
    "# Desarrollo Tarea N.º 1 Algoritmos y Estructuras de Datos (CC3001)\n",
    "-------------------\n",
    "> Integrantes: \\\n",
    "> $\\rightarrow$ Jorge Cummins;  RUT: 21.353.175-1 \\\n",
    "> Seccion: 1 \\\n",
    "> Profesor(es) de Catedra: Nelson Baloian,\n",
    "Patricio Poblete\\\n",
    "> Fecha de Entrega (plazo maximo): 9 de Agosto de 2024\n"
   ],
   "metadata": {
    "id": "zaBYcmuisYh7"
   }
  },
  {
   "metadata": {},
   "cell_type": "markdown",
   "source": [
    "## Sobre la tarea\n",
    "Este archivo corresponde al desarrollo de la tarea realizada en el mismo documento otorgado por enunciado.\n",
    "\n",
    "El desarrollo fue seccionado en diferentes cuadros de código que están complementados tanto por comentarios explicativos en cuadros de texto como comentarios en el mismo codigo.\n",
    "\n",
    "La tarea fue realizada individualmente por mí (Jorge Cummins) en archivos de Python aparte que después fueron copiados en un notebook de Python (jupyter notebook) para su entrega.\n"
   ]
  },
  {
   "metadata": {},
   "cell_type": "markdown",
   "source": [
    "## Desarrollo de la tarea\n",
    "\n",
    "Para la tarea se solicitó la realización de un código el cual permitiera implementar un sistema de marcador de goles de penales en el lenguaje de programación Python. Para el desarrollo se realizaron múltiples funciones con diferentes propósitos donde se destaca printear resultados, realizar la tanda de penales iniciales y otro para realizar la tanda de penales asociadas a la muerte súbita (empate en la primera tanda de penales), además de cuadros de código aparte que permitan tanto interactuar con el usuario como iniciar el sistema completo. El proceso fue separado en diferentes cuadros de código, conteniendo diferentes funciones y comentarios apartes para ayudar a la comprensión del código.\n",
    "\n",
    "En los cuadros de código se encontrarán las siguientes funciones (que serán respectivamente descritas):\n",
    "1. ```printganador```: printear/mostrar el ganador de la tanda de penales.\n",
    "2. ```muerte_subita```: encargada de realizar la tanda de penales en caso de haber muerte súbita (empate).\n",
    "3. ```tanda_de_penales```: encargada de realizar la tanda de 5 penales iniciales y llamar a muerte súbita en caso de empate.\n",
    "\n",
    "De esta forma, los códigos utilizados fueron los siguientes:"
   ]
  },
  {
   "metadata": {},
   "cell_type": "markdown",
   "source": [
    "### Cuadro de codigo 1\n",
    "En este cuadro se creó una función la cual tuviera como objetivo printear los ganadores respecto a los resultados de la tanda de penales, esta tiene la opción de seleccionar si se quiere printear el ganador de la tanda inicial o la muerte súbita."
   ]
  },
  {
   "cell_type": "code",
   "source": [
    "# Cuadro de codigo 1\n",
    "\"\"\" Función printganador\n",
    "\n",
    "El propósito de esta función es printear los posibles casos en que se obtenga un ganador, así evitando que el código\n",
    "final sea engorroso de leer.\n",
    "\n",
    "La función recibe los nombres de los dos equipos, el puntaje que tiene cada uno, el equipo que se quiere mostrar\n",
    "como ganador y la etapa de juego, donde la tanda de 5 penales corresponde a etapa = 1 y la muerte súbita a etapa = 2\n",
    "(aunque puede usarse cualquier número, pero por simplicidad le puse 2).\n",
    "\n",
    "str str int int str int -> None\n",
    "\"\"\"\n",
    "def printganador(equipo1, equipo2, contador_equipo1, contador_equipo2, ganador, etapa):\n",
    "    if etapa == 1:\n",
    "        print(\"El ganador se decide antes de completar los 5 tiros debido a una ventaja insuperable. \")         # Printea el ganador sin muerte subita\n",
    "    print(f\"Resultado final:\")\n",
    "    print(f\"{equipo1}: {contador_equipo1}\")                                                                     # Printea puntaje equipo 1\n",
    "    print(f\"{equipo2}: {contador_equipo2}\")                                                                     # Printea puntaje equipo 2\n",
    "    print(f\"El ganador es: {ganador}\")                                                                          # Printea el ganador\n"
   ],
   "metadata": {
    "id": "xWyj6oywuook",
    "ExecuteTime": {
     "end_time": "2024-08-17T21:40:31.309115Z",
     "start_time": "2024-08-17T21:40:31.304669Z"
    }
   },
   "outputs": [],
   "execution_count": 2
  },
  {
   "metadata": {},
   "cell_type": "markdown",
   "source": [
    "### Cuadro de codigo 2\n",
    "El segundo cuadro de código contiene la función encargada de realizar la tanda de muerte súbita, esta pregunta por los resultados de los tiros y se vuelve a llamar en caso de empate (que sean el mismo resultado). En caso de que no haya empate, se llama a la función ```printganador``` para mostrar el ganador, que en este caso es el equipo que anoto el gol."
   ]
  },
  {
   "cell_type": "code",
   "source": [
    "# Cuadro de codigo 2\n",
    "\"\"\" Función Muerte subita\n",
    "\n",
    "El propósito de esta función es que en caso de que después de la tanda de 5 penales, los equipos queden empatados se\n",
    "determine el ganador con una tanda de dos penales, ganando quien anote.\n",
    "\n",
    "Esta función recibe los nombres de los equipos y el puntaje que se tiene hasta el momento, de ahí realiza una tanda\n",
    "de una ronda de penales\n",
    "\n",
    "En caso de que se tenga el mismo para cada equipo después de los dos tiros, se vuelve a llamar a la función.\n",
    "En caso de que algún equipo gane, se muestra el equipo ganador.\n",
    "\n",
    "str str int int int -> None\n",
    "\"\"\"\n",
    "def muerte_subita(equipo1, equipo2, tiro, contador_equipo1, contador_equipo2):\n",
    "    resultado_subito1 = input(f\"¿Ingrese resultado de el tiro {tiro + 1} del jugador del equipo {equipo1}?: \")  # Pide resultado del tiro muerte subita del equipo 1\n",
    "    resultado_subito2 = input(f\"¿Ingrese resultado de el tiro {tiro + 1} del jugador del equipo {equipo2}?: \")  # Pide resultado del tiro muerte subita del equipo 2\n",
    "    if resultado_subito1 == \"gol\":                                                                              # -|\n",
    "        contador_equipo1 += 1                                                                                   #  |\n",
    "    if resultado_subito2 == \"gol\":                                                                              #  |--> Suma los puntos en caso de haber\n",
    "        contador_equipo2 += 1                                                                                   # -|\n",
    "    if resultado_subito1 == resultado_subito2:                                                                  # Condicion de igual resultado (empate)\n",
    "        return muerte_subita(equipo1, equipo2, tiro + 1, contador_equipo1, contador_equipo2)                    # Se vuelve a llamar a la funcion recursiva\n",
    "    elif resultado_subito1 == \"gol\":                                                                            # -|\n",
    "        printganador(equipo1, equipo2, contador_equipo1, contador_equipo2, equipo1, 2)                          #  |\n",
    "    elif resultado_subito2 == \"gol\":                                                                            #  |--> Se printea el ganador en caso de no haber empate\n",
    "        printganador(equipo1, equipo2, contador_equipo1, contador_equipo2, equipo2, 2)                          # -|"
   ],
   "metadata": {
    "id": "7gNWSXmSuxYG",
    "ExecuteTime": {
     "end_time": "2024-08-17T21:40:35.294427Z",
     "start_time": "2024-08-17T21:40:35.289529Z"
    }
   },
   "outputs": [],
   "execution_count": 3
  },
  {
   "metadata": {},
   "cell_type": "markdown",
   "source": [
    "### Cuadro de codigo 3\n",
    "El cuadro de código 3 contiene la principal función, pues está encargada de realizar la tanda de penales y llamar a la función muerte súbita dependiendo de los casos. En esta función llamada ```tanda_de_penales``` se realiza un ciclo solicitando los resultados de los penales que se van sumando y restando el número de tiros faltantes. En caso de que después de acabada la iteración no se haya llegado a un ganador, el estatus de ganador (variable que se creó para saber si se llegó o no a un ganador) permanece inalterado y se llama a la función muerte súbita. En el caso de que no haya empate se verá dependiendo de los resultados del total de puntos con respecto a los tiros faltantes, de esta forma y siguiendo una regla/ecuación donde en caso de que un equipo tenga más puntos que el otro equipo, considerando que anota todos los tiros siguientes, es decir, $\\text{puntos equipo} \\geq \\text{puntos del otro equipo}+\\text{tiros restantes}$, se rompe el ciclo (```break```) y se printea a el cómo ganador al equipo de mayor puntaje.\n",
    "\n",
    "Con respecto a este mecanismo, se tienen cuatro casos posibles:\n",
    "1. Después del tiro del equipo 1 el puntaje del equipo 1 es **mayor**, el equipo 2 no puede empatarlo, gana el equipo 1.\n",
    "2. Después del tiro del equipo 1 el puntaje del equipo 2 es **mayor o igual**, el equipo 1 no puede empatarlo, gana el equipo 2.\n",
    "3. Después del tiro del equipo 2 el puntaje del equipo 2 es **mayor o igual**, el equipo 1 no puede empatarlo, gana el equipo 2.\n",
    "4. Después del tiro del equipo 2 el puntaje del equipo 1 es **mayor o igual**, el equipo 2 no puede empatarlo, gana el equipo 1.\n",
    "\n",
    "En cada uno de estos casos se rompe de manera brusca el ciclo cambiando el estatus de ganador a $1$, lo cual significa que se detiene la función y printea al ganador.\n",
    "\n",
    "Después de esta extensa (y media confusa) descripción, se tiene que el código respectivo."
   ]
  },
  {
   "cell_type": "code",
   "source": [
    "# Cuadro de codigo 3\n",
    "\"\"\"Función Tanda de penales\n",
    "\n",
    "El propósito de esta función es realizar el sistema solicitado para la tanda de penales.\n",
    "\n",
    "Recibe el nombre de los dos equipos más los tiros que se realizaran en la etapa previa a la muerte súbita\n",
    "(este valor es fijo, pero el código está hecho para que pueda cambiarse y realizar la misma operación con un número\n",
    "distinto de 5).\n",
    "\n",
    "En caso de quedar en empate, esta función llama a la función muerte súbita.\n",
    "\n",
    "str str int -> None\n",
    "\"\"\"\n",
    "def tanda_de_penales(equipo1, equipo2, tiros_iniciales=5):\n",
    "    tiro = 0                                                                                                      # Instruccion de inicializacion del tiro\n",
    "    contador_equipo1 = 0                                                                                          # Contador puntos equipo 1 inicial\n",
    "    contador_equipo2 = 0                                                                                          # Contador puntos equipo 2 inicial\n",
    "    ganador = 0                                                                                                   # Instruccion para determinar un ganador sin muerte subita\n",
    "    print(f\"{equipo1} comienza primero\")\n",
    "    while tiro < 5:                                                                                               # Ciclo de 5 penales\n",
    "        tiros_restantes = tiros_iniciales - tiro                                                                  # nº de tiros restantes\n",
    "        tiro_equipo1 = input(f\"¿Ingrese resultado de el tiro {tiro + 1} del jugador del equipo {equipo1}?: \")     # Pide resultado del tiro del equipo 1\n",
    "        if tiro_equipo1 == \"gol\":                                                                                 # -|\n",
    "            contador_equipo1 += 1                                                                                 #  |\n",
    "        if contador_equipo1 > contador_equipo2 + tiros_restantes:                                                 #  |\n",
    "            printganador(equipo1, equipo2, contador_equipo1, contador_equipo2, equipo1, 1)                        #  |\n",
    "            ganador += 1                                                                                          #  |--> Posibles casos tras el tiro del equipo 1\n",
    "            break                                                                                                 #  |\n",
    "        if contador_equipo2 >= contador_equipo1 + tiros_restantes:                                                #  |\n",
    "            printganador(equipo1, equipo2, contador_equipo1, contador_equipo2, equipo2, 1)                        #  |\n",
    "            ganador += 1                                                                                          #  |\n",
    "            break                                                                                                 # -|\n",
    "        tiro_equipo2 = input(f\"¿Ingrese resultado de el tiro {tiro + 1} del jugador del equipo {equipo2}?: \")     # Pide resultado del tiro del equipo 2\n",
    "        if tiro_equipo2 == \"gol\":                                                                                 # -|\n",
    "            contador_equipo2 += 1                                                                                 #  |\n",
    "        if contador_equipo2 >= contador_equipo1 + tiros_restantes:                                                #  |\n",
    "            printganador(equipo1, equipo2, contador_equipo1, contador_equipo2, equipo2, 1)                        #  |\n",
    "            ganador += 1                                                                                          #  |--> Posibles casos tras el tiro del equipo 2\n",
    "            break                                                                                                 #  |\n",
    "        if contador_equipo1 >= contador_equipo2 + tiros_restantes:                                                #  |\n",
    "            printganador(equipo1, equipo2, contador_equipo1, contador_equipo2, equipo1, 1)                        #  |\n",
    "            ganador += 1                                                                                          #  |\n",
    "            break                                                                                                 # -|\n",
    "        tiro = tiro + 1\n",
    "    if ganador == 0:                                                                                              # Condicion de empate\n",
    "        print()                                                                                                   #\n",
    "        print(\"Resultado despues de los 5 tiros: \")                                                               # Printea el resultado despues de los 5 tiros\n",
    "        print(f\"{equipo1}: {contador_equipo1}\")                                                                   # Printea el puntaje del equipo 1\n",
    "        print(f\"{equipo2}: {contador_equipo2}\")                                                                   # Printea el puntaje del equipo 2\n",
    "        print(\"Empate! Vamos a muerte subita\")                                                                    # Mensaje que da inicio a la muerte subita\n",
    "        print()\n",
    "        muerte_subita(equipo1, equipo2, tiro, contador_equipo1, contador_equipo2)                                 # Se llama a funcion muerte subita"
   ],
   "metadata": {
    "colab": {
     "base_uri": "https://localhost:8080/"
    },
    "id": "9YAQjTWxu4Rs",
    "executionInfo": {
     "status": "ok",
     "timestamp": 1723435520302,
     "user_tz": 240,
     "elapsed": 7025,
     "user": {
      "displayName": "Jorge Andrés Cummins",
      "userId": "07750277336973496271"
     }
    },
    "outputId": "33975495-41b5-4d5c-9b42-b904cc990ed1",
    "ExecuteTime": {
     "end_time": "2024-08-17T21:40:38.215670Z",
     "start_time": "2024-08-17T21:40:38.209850Z"
    }
   },
   "outputs": [],
   "execution_count": 4
  },
  {
   "metadata": {},
   "cell_type": "markdown",
   "source": [
    "### Cuadro de codigo 4\n",
    "En el cuadro final, se inicia el programa pidiendo los equipos y se llama a la funcion encargada de la tanda de penales."
   ]
  },
  {
   "metadata": {
    "ExecuteTime": {
     "end_time": "2024-08-17T22:48:41.609141Z",
     "start_time": "2024-08-17T22:48:29.927191Z"
    }
   },
   "cell_type": "code",
   "source": [
    "# Cuadro de codigo 4\n",
    "# Se ingresan los datos de los equipos que se usaran\n",
    "print(\"El orden en que se insertan los equipos es el orden en que se realizan los tiros de penales.\")\n",
    "equipo1 = input(\"Ingrese el nombre del equipo 1: \")\n",
    "equipo2 = input(\"Ingrese el nombre del equipo 2: \")\n",
    "print()\n",
    "\n",
    "# Llamamos a la funcion dando inicio al programa\n",
    "tanda_de_penales(equipo1, equipo2)"
   ],
   "outputs": [
    {
     "name": "stdout",
     "output_type": "stream",
     "text": [
      "Chile comienza primero\n",
      "\n",
      "Resultado despues de los 5 tiros: \n",
      "Chile: 0\n",
      "Argentina: 0\n",
      "Empate! Vamos a muerte subita\n",
      "\n"
     ]
    }
   ],
   "execution_count": 6
  }
 ]
}
